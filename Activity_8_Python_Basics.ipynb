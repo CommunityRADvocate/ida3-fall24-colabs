{
  "nbformat": 4,
  "nbformat_minor": 0,
  "metadata": {
    "colab": {
      "provenance": [],
      "include_colab_link": true
    },
    "kernelspec": {
      "name": "python3",
      "display_name": "Python 3"
    },
    "language_info": {
      "name": "python"
    }
  },
  "cells": [
    {
      "cell_type": "markdown",
      "metadata": {
        "id": "view-in-github",
        "colab_type": "text"
      },
      "source": [
        "<a href=\"https://colab.research.google.com/github/CommunityRADvocate/ida3-fall24-colabs/blob/main/Activity_8_Python_Basics.ipynb\" target=\"_parent\"><img src=\"https://colab.research.google.com/assets/colab-badge.svg\" alt=\"Open In Colab\"/></a>"
      ]
    },
    {
      "cell_type": "markdown",
      "source": [
        "# GCode Intro to Data Analytics\n",
        "## Week 8 - Python Basics Activities"
      ],
      "metadata": {
        "id": "jJD550JF8I6w"
      }
    },
    {
      "cell_type": "markdown",
      "source": [
        "Welcome to the Python activities for this week! These activities have been designed to test and enhance your programming skills. In each challenge, you'll work on specific tasks, developing appropriate code structures.\n",
        "\n",
        "The objective of this exercise is to explore the basic syntax you learned throughout this week's track and to practice these concepts in real-world scenarios."
      ],
      "metadata": {
        "id": "aTZOk_gZ8Sqo"
      }
    },
    {
      "cell_type": "markdown",
      "source": [
        "### Activity 1: Simple Calculator\n",
        "Create a single-cell script that takes three user inputs:\n",
        "1. Number A\n",
        "2. Number B\n",
        "3. Operation (ADD, SUBTRACT, MULTIPLY, DIVIDE)\n",
        "\n",
        "The program should perform the specified mathematical operation on the two numbers based on the user's input. You can use the following code snippet to complete the exercise.\n",
        "\n",
        "The program should also be aware that division by 0 is not possible, and should print an error message when Number B is 0 and the selected operation is division.\n",
        "\n",
        "Tip: Ensure that you convert the user input to float (numbers)."
      ],
      "metadata": {
        "id": "Vv9xV53KKrrY"
      }
    },
    {
      "cell_type": "code",
      "source": [
        "### YOUR CODE FOR USER INPUTS GOES HERE\n",
        "operation = ''\n",
        "\n",
        "# Operation validation\n",
        "if operation == \"ADD\":\n",
        "    # STUDENT: Write code here to perform addition and print the result\n",
        "    pass  # Remove this line when adding your code\n",
        "elif operation == \"SUBTRACT\":\n",
        "    # STUDENT: Write code here to perform subtraction and print the result\n",
        "    pass  # Remove this line when adding your code\n",
        "elif operation == \"MULTIPLY\":\n",
        "    # STUDENT: Write code here to perform multiplication and print the result\n",
        "    pass  # Remove this line when adding your code\n",
        "elif operation == \"DIVIDE\":\n",
        "    # STUDENT: Write code here to perform division and print the result\n",
        "    pass  # Remove this line when adding your code\n",
        "else:\n",
        "    print(\"Invalid operation. Please enter ADD, SUBTRACT, MULTIPLY, or DIVIDE.\")\n"
      ],
      "metadata": {
        "id": "DJXFjom68SGg",
        "colab": {
          "base_uri": "https://localhost:8080/"
        },
        "outputId": "8b2d3b06-6a4c-4531-d286-178a04879a39"
      },
      "execution_count": null,
      "outputs": [
        {
          "output_type": "stream",
          "name": "stdout",
          "text": [
            "Invalid operation. Please enter ADD, SUBTRACT, MULTIPLY, or DIVIDE.\n"
          ]
        }
      ]
    },
    {
      "cell_type": "markdown",
      "source": [
        "In the previous exercise, we covered the following topics:\n",
        "\n",
        "User Input: We learned how to take user input for numbers and the desired mathematical operation.\n",
        "\n",
        "Conditional Statements: We used conditional statements (if, elif) to validate the operation and perform different calculations based on the user's choice.\n",
        "\n",
        "Basic Math Operations: We implemented basic mathematical operations, including addition, subtraction, multiplication, and division.\n",
        "\n",
        "Error Handling: We incorporated error handling to handle situations such as division by zero."
      ],
      "metadata": {
        "id": "WTV1nmT2DQdr"
      }
    },
    {
      "cell_type": "markdown",
      "source": [
        "### Activity 2: Combined ages\n",
        "*Did you know that if we combined the life experiences of all living humans, it would exceed the age of the entire universe?*\n",
        "\n",
        "In this exercise, you will write a Python script that runs in a loop, gathering the first and last names of users, along with their ages. Within the loop, two important actions should take place:\n",
        "\n",
        "1. Display a welcome message containing the user's full name and age. For example: \"Welcome, Marie Curie, 79 years old.\"\n",
        "\n",
        "2. Sum the user's age to a total_age variable, and increment a n_users counter by 1 for each user.\n",
        "\n",
        "If a user enters \"EXIT\" as their first name, the loop should terminate, and you should perform the following actions:\n",
        "\n",
        "1. Display a goodbye message.\n",
        "\n",
        "2. Print the total combined age of all users.\n",
        "\n",
        "3. Calculate and print the average age of the users by dividing the total_age by n_users.\n",
        "\n",
        "\n",
        "Tip: To exit a While loop, you can do one of the following:\n",
        "\n",
        "\n",
        "```\n",
        "while True:\n",
        "  if exit_condition == True:\n",
        "    break # this exits the While loop\n",
        "```\n",
        "\n",
        "\n",
        "```\n",
        "while looping_condition == True:\n",
        "  # looping code\n",
        "```\n",
        "\n"
      ],
      "metadata": {
        "id": "REBOsSO1KvRe"
      }
    },
    {
      "cell_type": "code",
      "source": [],
      "metadata": {
        "id": "GohAkmlnLiOs"
      },
      "execution_count": null,
      "outputs": []
    },
    {
      "cell_type": "markdown",
      "source": [
        "In this exercise, we explored several important concepts in Python programming:\n",
        "\n",
        "User Input: We learned how to take user input for first names, last names, and ages using the input() function.\n",
        "\n",
        "Loops: We used a while loop to repeatedly gather user information until the user chose to exit by typing 'EXIT'.\n",
        "\n",
        "Conditional Statements: We used conditional statements to check if the user entered 'EXIT' and to display welcome messages based on user input.\n",
        "\n",
        "Variables: We used variables like total_age and n_users to store and update data as users were entered.\n",
        "\n",
        "Arithmetic Operations: We performed arithmetic operations to calculate the total combined age of users and the average age.\n",
        "\n",
        "String Manipulation: We combined and displayed strings to create welcome messages with user information.\n",
        "\n",
        "Exiting Loops: We learned how to exit a loop using the break statement when a specific condition (user entering 'EXIT') is met."
      ],
      "metadata": {
        "id": "3FGCK64-GiKF"
      }
    },
    {
      "cell_type": "markdown",
      "source": [
        "### Activity 3: Text based video game\n",
        "\n",
        "Create a text-based climate change game, where the player's goal is to lower the global average temperature.\n",
        "\n",
        "Game Dynamics:\n",
        "\n",
        "- The game starts with a global average temperature of 15°C.\n",
        "- The player has a limited number of actions to take.\n",
        "- Each action the player takes will either increase or decrease the global - average temperature.\n",
        "- The player can choose from a set of actions, such as (you can use these or invent your own):\n",
        "  1. Planting trees (which decreases the temperature)\n",
        "  1. Driving a car (which increases the temperature)\n",
        "  1. Using public transportation (which decreases the temperature)\n",
        "  1. Turning off lights (which decreases the temperature)\n",
        "  1. Using more electricity (which increases the temperature)\n",
        "- After each action, the game should display the new global average temperature and how many actions the player has left. You choose how many degrees are going to increase or decrease based on the action.\n",
        "- The game ends after a set number of actions, and the player's goal is to lower the temperature as much as possible within those actions."
      ],
      "metadata": {
        "id": "OnqiCMqkKxmu"
      }
    },
    {
      "cell_type": "code",
      "source": [
        "input(\"\"\"\n",
        "Choose from one of the following actions (write only the code, i.e. 5):\n",
        "1. Planting trees.\n",
        "2. Driving a car.\n",
        "3. Using public transportation.\n",
        "4. Turning off lights.\n",
        "5. Using more electricity.\n",
        "\"\"\")"
      ],
      "metadata": {
        "id": "Rn4WmK_BK2eu",
        "colab": {
          "base_uri": "https://localhost:8080/",
          "height": 174
        },
        "outputId": "29bed334-e595-435d-93a5-59e4c595f353"
      },
      "execution_count": null,
      "outputs": [
        {
          "name": "stdout",
          "output_type": "stream",
          "text": [
            "\n",
            "Choose from one of the following actions (write only the code, i.e. 5):\n",
            "1. Planting trees.\n",
            "2. Driving a car.\n",
            "3. Using public transportation.\n",
            "4. Turning off lights.\n",
            "5. Using more electricity.\n",
            "5\n"
          ]
        },
        {
          "output_type": "execute_result",
          "data": {
            "text/plain": [
              "'5'"
            ],
            "application/vnd.google.colaboratory.intrinsic+json": {
              "type": "string"
            }
          },
          "metadata": {},
          "execution_count": 5
        }
      ]
    }
  ]
}