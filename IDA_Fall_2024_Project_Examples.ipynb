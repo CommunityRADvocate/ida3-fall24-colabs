{
  "cells": [
    {
      "cell_type": "markdown",
      "metadata": {
        "id": "view-in-github",
        "colab_type": "text"
      },
      "source": [
        "<a href=\"https://colab.research.google.com/github/CommunityRADvocate/ida3-fall24-colabs/blob/main/IDA_Fall_2024_Project_Examples.ipynb\" target=\"_parent\"><img src=\"https://colab.research.google.com/assets/colab-badge.svg\" alt=\"Open In Colab\"/></a>"
      ]
    },
    {
      "cell_type": "markdown",
      "metadata": {
        "id": "UK9RTdsz3_ft"
      },
      "source": [
        "#Introduction\n",
        "---\n",
        "\n",
        "In this project, you will compile an Exploratory Data Analysis using Python of our e-commerce dataset. This notebook contains the starter code to import the data using Pandas.\n",
        "\n",
        "You will need to run each block of code in the setup section, each time you open the notebook, in order to work on your analysis."
      ]
    },
    {
      "cell_type": "markdown",
      "metadata": {
        "id": "FdzVBp6XBlH8"
      },
      "source": [
        "#Setup\n",
        "---\n",
        "We set up our Colab by installing, importing, and enabling the usage of a few Python libraries within Colab, as well as authenticating this Colab runtime and then setting up a BigQuery client with the appropriate Cloud project_id. This follows closely the instructions in the [\"Getting started with BigQuery\"](https://colab.sandbox.google.com/notebooks/bigquery.ipynb#scrollTo=SeTJb51SKs_W)\n",
        "example Colab."
      ]
    },
    {
      "cell_type": "code",
      "execution_count": null,
      "metadata": {
        "colab": {
          "base_uri": "https://localhost:8080/"
        },
        "id": "47_v-OOisNXB",
        "outputId": "dc241692-20ae-44f7-afc1-5945ca4a0e45"
      },
      "outputs": [
        {
          "output_type": "stream",
          "name": "stdout",
          "text": [
            "Collecting chart_studio\n",
            "  Downloading chart_studio-1.1.0-py3-none-any.whl.metadata (1.3 kB)\n",
            "Requirement already satisfied: plotly in /usr/local/lib/python3.10/dist-packages (from chart_studio) (5.24.1)\n",
            "Requirement already satisfied: requests in /usr/local/lib/python3.10/dist-packages (from chart_studio) (2.32.3)\n",
            "Collecting retrying>=1.3.3 (from chart_studio)\n",
            "  Downloading retrying-1.3.4-py3-none-any.whl.metadata (6.9 kB)\n",
            "Requirement already satisfied: six in /usr/local/lib/python3.10/dist-packages (from chart_studio) (1.16.0)\n",
            "Requirement already satisfied: tenacity>=6.2.0 in /usr/local/lib/python3.10/dist-packages (from plotly->chart_studio) (9.0.0)\n",
            "Requirement already satisfied: packaging in /usr/local/lib/python3.10/dist-packages (from plotly->chart_studio) (24.2)\n",
            "Requirement already satisfied: charset-normalizer<4,>=2 in /usr/local/lib/python3.10/dist-packages (from requests->chart_studio) (3.4.0)\n",
            "Requirement already satisfied: idna<4,>=2.5 in /usr/local/lib/python3.10/dist-packages (from requests->chart_studio) (3.10)\n",
            "Requirement already satisfied: urllib3<3,>=1.21.1 in /usr/local/lib/python3.10/dist-packages (from requests->chart_studio) (2.2.3)\n",
            "Requirement already satisfied: certifi>=2017.4.17 in /usr/local/lib/python3.10/dist-packages (from requests->chart_studio) (2024.8.30)\n",
            "Downloading chart_studio-1.1.0-py3-none-any.whl (64 kB)\n",
            "\u001b[2K   \u001b[90m━━━━━━━━━━━━━━━━━━━━━━━━━━━━━━━━━━━━━━━━\u001b[0m \u001b[32m64.4/64.4 kB\u001b[0m \u001b[31m2.9 MB/s\u001b[0m eta \u001b[36m0:00:00\u001b[0m\n",
            "\u001b[?25hDownloading retrying-1.3.4-py3-none-any.whl (11 kB)\n",
            "Installing collected packages: retrying, chart_studio\n",
            "Successfully installed chart_studio-1.1.0 retrying-1.3.4\n"
          ]
        }
      ],
      "source": [
        "#@title Install Latest Version of Some Packages\n",
        "!pip install --upgrade chart_studio"
      ]
    },
    {
      "cell_type": "markdown",
      "metadata": {
        "id": "A8_gUhFcaqFJ"
      },
      "source": [
        "***Check the output from the cell above, as it may require restarting the Colab runtime for the upgrades to take effect in the environment. You can pick up from this point after restarting.***"
      ]
    },
    {
      "cell_type": "code",
      "execution_count": null,
      "metadata": {
        "id": "Vb5qzuRo3e15"
      },
      "outputs": [],
      "source": [
        "#@title Import Python Libraries & Some Other Setup\n",
        "# Basic Python data science libraries\n",
        "import pandas as pd\n",
        "import numpy as np\n",
        "import matplotlib.pyplot as plt\n",
        "\n",
        "# Enable displaying pandas data frames as interactive tables by default\n",
        "from google.colab import data_table\n",
        "data_table.enable_dataframe_formatter()"
      ]
    },
    {
      "cell_type": "markdown",
      "metadata": {
        "id": "JOejymzt9O1X"
      },
      "source": [
        "The authentication step in the next cell will require manually going through some pop-up screens and copy/pasting an authentication code from another window back into the cell to complete (on the 1st run; may run automatically thereafter)."
      ]
    },
    {
      "cell_type": "code",
      "execution_count": null,
      "metadata": {
        "colab": {
          "base_uri": "https://localhost:8080/"
        },
        "id": "tUF6_ViQ7sEq",
        "outputId": "e83708e3-bd9b-497a-a0d2-94f4fca6c44f"
      },
      "outputs": [
        {
          "output_type": "stream",
          "name": "stdout",
          "text": [
            "Authenticated\n"
          ]
        }
      ],
      "source": [
        "#@title Provide Google Credentials to Colab Runtime (May Require Manually Copy/Pasting Authentication Code)\n",
        "from google.colab import auth\n",
        "auth.authenticate_user()\n",
        "print('Authenticated')"
      ]
    },
    {
      "cell_type": "markdown",
      "metadata": {
        "id": "E5D1rxwQVtnM"
      },
      "source": [
        "\n",
        "##Please enter your own Google Cloud/BigQuery project ID in the form below, then run the cell to set up the BigQuery client.\n",
        "1. Visit the [GCP console](https://console.cloud.google.com) and copy the project id field.\n",
        "2. If you haven't set up BigQuery and don't have a project ID to enter, follow Remy's instructions [here](https://introtogcode.slack.com/archives/C07JABBBU74/p1728489799749529)\n",
        "3. Fill in the project ID where it says 'YOUR PROJECT ID HERE' below"
      ]
    },
    {
      "cell_type": "code",
      "source": [
        "# this is Nicole's bigquery\n",
        "from google.cloud import bigquery\n",
        "client = bigquery.Client(project='ida-spring-24')"
      ],
      "metadata": {
        "id": "URXZ0d3pY4F_"
      },
      "execution_count": null,
      "outputs": []
    },
    {
      "cell_type": "markdown",
      "metadata": {
        "id": "hGJ67047Bpzp"
      },
      "source": [
        "#Pull in e-commerce data\n",
        "----\n",
        "In this section, we look at how to get each table in our e-commerce dataset. The commented out code at the end can be uncommented for an individual line to see a sample of the data."
      ]
    },
    {
      "cell_type": "code",
      "source": [
        "sql_query = \"\"\" SELECT * FROM bigquery-public-data.thelook_ecommerce.distribution_centers \"\"\"\n",
        "distribution_centers = client.query(sql_query).to_dataframe()\n",
        "sql_query = \"\"\" SELECT * FROM bigquery-public-data.thelook_ecommerce.events \"\"\"\n",
        "events = client.query(sql_query).to_dataframe()\n",
        "sql_query = \"\"\" SELECT * FROM bigquery-public-data.thelook_ecommerce.inventory_items \"\"\"\n",
        "inventory_items = client.query(sql_query).to_dataframe()\n",
        "sql_query = \"\"\" SELECT * FROM bigquery-public-data.thelook_ecommerce.order_items \"\"\"\n",
        "order_items = client.query(sql_query).to_dataframe()\n",
        "sql_query = \"\"\" SELECT * FROM bigquery-public-data.thelook_ecommerce.orders \"\"\"\n",
        "orders = client.query(sql_query).to_dataframe()\n",
        "sql_query = \"\"\" SELECT * FROM bigquery-public-data.thelook_ecommerce.products \"\"\"\n",
        "products = client.query(sql_query).to_dataframe()\n",
        "sql_query = \"\"\" SELECT * FROM bigquery-public-data.thelook_ecommerce.users \"\"\"\n",
        "users = client.query(sql_query).to_dataframe()"
      ],
      "metadata": {
        "id": "2Ll0HQoggbEn"
      },
      "execution_count": null,
      "outputs": []
    },
    {
      "cell_type": "markdown",
      "source": [
        "Explore the data: uncomment out whichever line to view the first 5 entries in any of the tables."
      ],
      "metadata": {
        "id": "pUa5TspWjuyp"
      }
    },
    {
      "cell_type": "code",
      "source": [
        "#distribution_centers.head()\n",
        "#events.head()\n",
        "#inventory_items.head()\n",
        "#order_items.head()\n",
        "#orders.head()\n",
        "#products.head()\n",
        "#users.head()"
      ],
      "metadata": {
        "id": "mTDMh9eViWV3"
      },
      "execution_count": null,
      "outputs": []
    },
    {
      "cell_type": "code",
      "source": [
        "distribution_centers.info()"
      ],
      "metadata": {
        "colab": {
          "base_uri": "https://localhost:8080/"
        },
        "id": "5oRtYTc2a015",
        "outputId": "b943eb8b-c74b-47a4-9b0b-7faff4952ad1"
      },
      "execution_count": null,
      "outputs": [
        {
          "output_type": "stream",
          "name": "stdout",
          "text": [
            "<class 'pandas.core.frame.DataFrame'>\n",
            "RangeIndex: 10 entries, 0 to 9\n",
            "Data columns (total 5 columns):\n",
            " #   Column                    Non-Null Count  Dtype  \n",
            "---  ------                    --------------  -----  \n",
            " 0   id                        10 non-null     Int64  \n",
            " 1   name                      10 non-null     object \n",
            " 2   latitude                  10 non-null     float64\n",
            " 3   longitude                 10 non-null     float64\n",
            " 4   distribution_center_geom  10 non-null     object \n",
            "dtypes: Int64(1), float64(2), object(2)\n",
            "memory usage: 538.0+ bytes\n"
          ]
        }
      ]
    },
    {
      "cell_type": "code",
      "source": [
        "events.info()"
      ],
      "metadata": {
        "colab": {
          "base_uri": "https://localhost:8080/"
        },
        "id": "ozrICOLDa3A3",
        "outputId": "d8778821-5aec-453c-9e01-c0a04de706d3"
      },
      "execution_count": null,
      "outputs": [
        {
          "output_type": "stream",
          "name": "stdout",
          "text": [
            "<class 'pandas.core.frame.DataFrame'>\n",
            "RangeIndex: 2425397 entries, 0 to 2425396\n",
            "Data columns (total 13 columns):\n",
            " #   Column           Dtype              \n",
            "---  ------           -----              \n",
            " 0   id               Int64              \n",
            " 1   user_id          Int64              \n",
            " 2   sequence_number  Int64              \n",
            " 3   session_id       object             \n",
            " 4   created_at       datetime64[us, UTC]\n",
            " 5   ip_address       object             \n",
            " 6   city             object             \n",
            " 7   state            object             \n",
            " 8   postal_code      object             \n",
            " 9   browser          object             \n",
            " 10  traffic_source   object             \n",
            " 11  uri              object             \n",
            " 12  event_type       object             \n",
            "dtypes: Int64(3), datetime64[us, UTC](1), object(9)\n",
            "memory usage: 247.5+ MB\n"
          ]
        }
      ]
    },
    {
      "cell_type": "code",
      "source": [
        "inventory_items.info()"
      ],
      "metadata": {
        "colab": {
          "base_uri": "https://localhost:8080/"
        },
        "id": "rVJ_UYzdbEu2",
        "outputId": "24587108-241d-4f8d-e849-d39a17a5e20d"
      },
      "execution_count": null,
      "outputs": [
        {
          "output_type": "stream",
          "name": "stdout",
          "text": [
            "<class 'pandas.core.frame.DataFrame'>\n",
            "RangeIndex: 490169 entries, 0 to 490168\n",
            "Data columns (total 12 columns):\n",
            " #   Column                          Non-Null Count   Dtype              \n",
            "---  ------                          --------------   -----              \n",
            " 0   id                              490169 non-null  Int64              \n",
            " 1   product_id                      490169 non-null  Int64              \n",
            " 2   created_at                      490169 non-null  datetime64[us, UTC]\n",
            " 3   sold_at                         181314 non-null  datetime64[us, UTC]\n",
            " 4   cost                            490169 non-null  float64            \n",
            " 5   product_category                490169 non-null  object             \n",
            " 6   product_name                    490169 non-null  object             \n",
            " 7   product_brand                   490169 non-null  object             \n",
            " 8   product_retail_price            490169 non-null  float64            \n",
            " 9   product_department              490169 non-null  object             \n",
            " 10  product_sku                     490169 non-null  object             \n",
            " 11  product_distribution_center_id  490169 non-null  Int64              \n",
            "dtypes: Int64(3), datetime64[us, UTC](2), float64(2), object(5)\n",
            "memory usage: 46.3+ MB\n"
          ]
        }
      ]
    },
    {
      "cell_type": "code",
      "source": [
        "orders.info()"
      ],
      "metadata": {
        "colab": {
          "base_uri": "https://localhost:8080/"
        },
        "id": "oW2wayxDbLRq",
        "outputId": "111992fc-8e35-40e8-9214-230ef832e225"
      },
      "execution_count": null,
      "outputs": [
        {
          "output_type": "stream",
          "name": "stdout",
          "text": [
            "<class 'pandas.core.frame.DataFrame'>\n",
            "RangeIndex: 125025 entries, 0 to 125024\n",
            "Data columns (total 9 columns):\n",
            " #   Column        Non-Null Count   Dtype              \n",
            "---  ------        --------------   -----              \n",
            " 0   order_id      125025 non-null  Int64              \n",
            " 1   user_id       125025 non-null  Int64              \n",
            " 2   status        125025 non-null  object             \n",
            " 3   gender        125025 non-null  object             \n",
            " 4   created_at    125025 non-null  datetime64[us, UTC]\n",
            " 5   returned_at   12510 non-null   datetime64[us, UTC]\n",
            " 6   shipped_at    81181 non-null   datetime64[us, UTC]\n",
            " 7   delivered_at  43775 non-null   datetime64[us, UTC]\n",
            " 8   num_of_item   125025 non-null  Int64              \n",
            "dtypes: Int64(3), datetime64[us, UTC](4), object(2)\n",
            "memory usage: 8.9+ MB\n"
          ]
        }
      ]
    },
    {
      "cell_type": "code",
      "source": [
        "merged_orders = orders.merge(order_items, on='order_id')\n",
        "merged_orders.info()"
      ],
      "metadata": {
        "colab": {
          "base_uri": "https://localhost:8080/"
        },
        "id": "siLov07_bP7M",
        "outputId": "562f4ce7-1f03-4552-9328-3d586be93d82"
      },
      "execution_count": null,
      "outputs": [
        {
          "output_type": "stream",
          "name": "stdout",
          "text": [
            "<class 'pandas.core.frame.DataFrame'>\n",
            "RangeIndex: 181314 entries, 0 to 181313\n",
            "Data columns (total 19 columns):\n",
            " #   Column             Non-Null Count   Dtype              \n",
            "---  ------             --------------   -----              \n",
            " 0   order_id           181314 non-null  Int64              \n",
            " 1   user_id_x          181314 non-null  Int64              \n",
            " 2   status_x           181314 non-null  object             \n",
            " 3   gender             181314 non-null  object             \n",
            " 4   created_at_x       181314 non-null  datetime64[us, UTC]\n",
            " 5   returned_at_x      18095 non-null   datetime64[us, UTC]\n",
            " 6   shipped_at_x       117615 non-null  datetime64[us, UTC]\n",
            " 7   delivered_at_x     63386 non-null   datetime64[us, UTC]\n",
            " 8   num_of_item        181314 non-null  Int64              \n",
            " 9   id                 181314 non-null  Int64              \n",
            " 10  user_id_y          181314 non-null  Int64              \n",
            " 11  product_id         181314 non-null  Int64              \n",
            " 12  inventory_item_id  181314 non-null  Int64              \n",
            " 13  status_y           181314 non-null  object             \n",
            " 14  created_at_y       181314 non-null  datetime64[us, UTC]\n",
            " 15  shipped_at_y       117615 non-null  datetime64[us, UTC]\n",
            " 16  delivered_at_y     63386 non-null   datetime64[us, UTC]\n",
            " 17  returned_at_y      18095 non-null   datetime64[us, UTC]\n",
            " 18  sale_price         181314 non-null  float64            \n",
            "dtypes: Int64(7), datetime64[us, UTC](8), float64(1), object(3)\n",
            "memory usage: 27.5+ MB\n"
          ]
        }
      ]
    },
    {
      "cell_type": "code",
      "source": [
        "order_items.info()"
      ],
      "metadata": {
        "colab": {
          "base_uri": "https://localhost:8080/"
        },
        "id": "8I6CLzvdbczf",
        "outputId": "7741c65e-de49-4121-81bc-8a64acac0868"
      },
      "execution_count": null,
      "outputs": [
        {
          "output_type": "stream",
          "name": "stdout",
          "text": [
            "<class 'pandas.core.frame.DataFrame'>\n",
            "RangeIndex: 181314 entries, 0 to 181313\n",
            "Data columns (total 11 columns):\n",
            " #   Column             Non-Null Count   Dtype              \n",
            "---  ------             --------------   -----              \n",
            " 0   id                 181314 non-null  Int64              \n",
            " 1   order_id           181314 non-null  Int64              \n",
            " 2   user_id            181314 non-null  Int64              \n",
            " 3   product_id         181314 non-null  Int64              \n",
            " 4   inventory_item_id  181314 non-null  Int64              \n",
            " 5   status             181314 non-null  object             \n",
            " 6   created_at         181314 non-null  datetime64[us, UTC]\n",
            " 7   shipped_at         117615 non-null  datetime64[us, UTC]\n",
            " 8   delivered_at       63386 non-null   datetime64[us, UTC]\n",
            " 9   returned_at        18095 non-null   datetime64[us, UTC]\n",
            " 10  sale_price         181314 non-null  float64            \n",
            "dtypes: Int64(5), datetime64[us, UTC](4), float64(1), object(1)\n",
            "memory usage: 16.1+ MB\n"
          ]
        }
      ]
    },
    {
      "cell_type": "code",
      "source": [
        "order_items['status'].value_counts()"
      ],
      "metadata": {
        "colab": {
          "base_uri": "https://localhost:8080/",
          "height": 269
        },
        "id": "v8c3ekAbbhCi",
        "outputId": "cb2ed124-cb80-4cfd-a52e-b8b2efb95181"
      },
      "execution_count": null,
      "outputs": [
        {
          "output_type": "execute_result",
          "data": {
            "text/plain": [
              "status\n",
              "Shipped       54229\n",
              "Complete      45291\n",
              "Processing    35985\n",
              "Cancelled     27714\n",
              "Returned      18095\n",
              "Name: count, dtype: int64"
            ],
            "text/html": [
              "<div>\n",
              "<style scoped>\n",
              "    .dataframe tbody tr th:only-of-type {\n",
              "        vertical-align: middle;\n",
              "    }\n",
              "\n",
              "    .dataframe tbody tr th {\n",
              "        vertical-align: top;\n",
              "    }\n",
              "\n",
              "    .dataframe thead th {\n",
              "        text-align: right;\n",
              "    }\n",
              "</style>\n",
              "<table border=\"1\" class=\"dataframe\">\n",
              "  <thead>\n",
              "    <tr style=\"text-align: right;\">\n",
              "      <th></th>\n",
              "      <th>count</th>\n",
              "    </tr>\n",
              "    <tr>\n",
              "      <th>status</th>\n",
              "      <th></th>\n",
              "    </tr>\n",
              "  </thead>\n",
              "  <tbody>\n",
              "    <tr>\n",
              "      <th>Shipped</th>\n",
              "      <td>54229</td>\n",
              "    </tr>\n",
              "    <tr>\n",
              "      <th>Complete</th>\n",
              "      <td>45291</td>\n",
              "    </tr>\n",
              "    <tr>\n",
              "      <th>Processing</th>\n",
              "      <td>35985</td>\n",
              "    </tr>\n",
              "    <tr>\n",
              "      <th>Cancelled</th>\n",
              "      <td>27714</td>\n",
              "    </tr>\n",
              "    <tr>\n",
              "      <th>Returned</th>\n",
              "      <td>18095</td>\n",
              "    </tr>\n",
              "  </tbody>\n",
              "</table>\n",
              "</div><br><label><b>dtype:</b> int64</label>"
            ]
          },
          "metadata": {},
          "execution_count": 13
        }
      ]
    },
    {
      "cell_type": "code",
      "source": [
        "# use matplotlib to create a bar chart with counts by status\n",
        "order_items['status'].value_counts().plot(kind='bar')"
      ],
      "metadata": {
        "colab": {
          "base_uri": "https://localhost:8080/",
          "height": 526
        },
        "id": "8naher0rcn-C",
        "outputId": "7944bfb9-6a11-4a83-9cb2-2ae43ab64ff9"
      },
      "execution_count": null,
      "outputs": [
        {
          "output_type": "execute_result",
          "data": {
            "text/plain": [
              "<Axes: xlabel='status'>"
            ]
          },
          "metadata": {},
          "execution_count": 14
        },
        {
          "output_type": "display_data",
          "data": {
            "text/plain": [
              "<Figure size 640x480 with 1 Axes>"
            ],
            "image/png": "[encoded data removed]"
          },
          "metadata": {}
        }
      ]
    },
    {
      "cell_type": "code",
      "source": [
        "# use matplotlib to create a pie chart with counts by status\n",
        "order_items['status'].value_counts().plot(kind='pie')"
      ],
      "metadata": {
        "colab": {
          "base_uri": "https://localhost:8080/",
          "height": 423
        },
        "id": "S1S1EdQfmcoq",
        "outputId": "30174cb4-46e9-44eb-9a60-1b353ed33250"
      },
      "execution_count": null,
      "outputs": [
        {
          "output_type": "execute_result",
          "data": {
            "text/plain": [
              "<Axes: ylabel='count'>"
            ]
          },
          "metadata": {},
          "execution_count": 15
        },
        {
          "output_type": "display_data",
          "data": {
            "text/plain": [
              "<Figure size 640x480 with 1 Axes>"
            ],
            "image/png": "[encoded data removed]"
          },
          "metadata": {}
        }
      ]
    },
    {
      "cell_type": "code",
      "source": [
        " # use group by to get total order cost from merged by order id, include order status\n",
        " total_order_cost = merged_orders.groupby(['order_id', 'status_x'])['sale_price'].sum().reset_index()\n",
        " total_order_cost.head()\n",
        "\n",
        "# get average sale_price by status_x from total_order_cost\n",
        " avg_sale_price = total_order_cost.groupby('status_x')['sale_price'].mean()\n",
        "\n",
        " # graph average order cost by status\n",
        " avg_sale_price.plot(kind='bar', color='pink')\n",
        "\n",
        " # set axes from 80 to 100\n",
        " plt.ylim(85, 87)\n",
        "\n",
        "# add data labels\n",
        " for i in range(len(avg_sale_price)):\n",
        "   plt.text(i, avg_sale_price.iloc[i], round(avg_sale_price.iloc[i], 2), ha='center')"
      ],
      "metadata": {
        "colab": {
          "base_uri": "https://localhost:8080/",
          "height": 515
        },
        "id": "FMsbUU99dnc5",
        "outputId": "15e99c16-a325-4e57-8ab7-86d01b759077"
      },
      "execution_count": null,
      "outputs": [
        {
          "output_type": "display_data",
          "data": {
            "text/plain": [
              "<Figure size 640x480 with 1 Axes>"
            ],
            "image/png": "[encoded data removed]"
          },
          "metadata": {}
        }
      ]
    },
    {
      "cell_type": "code",
      "source": [
        "products.describe()"
      ],
      "metadata": {
        "colab": {
          "base_uri": "https://localhost:8080/",
          "height": 288
        },
        "id": "FMM_X4EzgU0U",
        "outputId": "2ab2d58f-85bd-408c-c671-20c72c52c1dc"
      },
      "execution_count": null,
      "outputs": [
        {
          "output_type": "execute_result",
          "data": {
            "text/plain": [
              "                id          cost  retail_price  distribution_center_id\n",
              "count      29120.0  29120.000000  29120.000000                 29120.0\n",
              "mean       14560.5     28.481774     59.220164                4.982898\n",
              "std    8406.364256     30.624681     65.888927                2.901153\n",
              "min            1.0      0.008300      0.020000                     1.0\n",
              "25%        7280.75     11.275613     24.000000                     2.0\n",
              "50%        14560.5     19.675081     39.990002                     5.0\n",
              "75%       21840.25     34.440000     69.949997                     8.0\n",
              "max        29120.0    557.151002    999.000000                    10.0"
            ],
            "text/html": [
              "\n",
              "  <div id=\"df-bf34eb91-863b-49c9-96f2-1cf7457d9455\" class=\"colab-df-container\">\n",
              "    <div>\n",
              "<style scoped>\n",
              "    .dataframe tbody tr th:only-of-type {\n",
              "        vertical-align: middle;\n",
              "    }\n",
              "\n",
              "    .dataframe tbody tr th {\n",
              "        vertical-align: top;\n",
              "    }\n",
              "\n",
              "    .dataframe thead th {\n",
              "        text-align: right;\n",
              "    }\n",
              "</style>\n",
              "<table border=\"1\" class=\"dataframe\">\n",
              "  <thead>\n",
              "    <tr style=\"text-align: right;\">\n",
              "      <th></th>\n",
              "      <th>id</th>\n",
              "      <th>cost</th>\n",
              "      <th>retail_price</th>\n",
              "      <th>distribution_center_id</th>\n",
              "    </tr>\n",
              "  </thead>\n",
              "  <tbody>\n",
              "    <tr>\n",
              "      <th>count</th>\n",
              "      <td>29120.0</td>\n",
              "      <td>29120.000000</td>\n",
              "      <td>29120.000000</td>\n",
              "      <td>29120.0</td>\n",
              "    </tr>\n",
              "    <tr>\n",
              "      <th>mean</th>\n",
              "      <td>14560.5</td>\n",
              "      <td>28.481774</td>\n",
              "      <td>59.220164</td>\n",
              "      <td>4.982898</td>\n",
              "    </tr>\n",
              "    <tr>\n",
              "      <th>std</th>\n",
              "      <td>8406.364256</td>\n",
              "      <td>30.624681</td>\n",
              "      <td>65.888927</td>\n",
              "      <td>2.901153</td>\n",
              "    </tr>\n",
              "    <tr>\n",
              "      <th>min</th>\n",
              "      <td>1.0</td>\n",
              "      <td>0.008300</td>\n",
              "      <td>0.020000</td>\n",
              "      <td>1.0</td>\n",
              "    </tr>\n",
              "    <tr>\n",
              "      <th>25%</th>\n",
              "      <td>7280.75</td>\n",
              "      <td>11.275613</td>\n",
              "      <td>24.000000</td>\n",
              "      <td>2.0</td>\n",
              "    </tr>\n",
              "    <tr>\n",
              "      <th>50%</th>\n",
              "      <td>14560.5</td>\n",
              "      <td>19.675081</td>\n",
              "      <td>39.990002</td>\n",
              "      <td>5.0</td>\n",
              "    </tr>\n",
              "    <tr>\n",
              "      <th>75%</th>\n",
              "      <td>21840.25</td>\n",
              "      <td>34.440000</td>\n",
              "      <td>69.949997</td>\n",
              "      <td>8.0</td>\n",
              "    </tr>\n",
              "    <tr>\n",
              "      <th>max</th>\n",
              "      <td>29120.0</td>\n",
              "      <td>557.151002</td>\n",
              "      <td>999.000000</td>\n",
              "      <td>10.0</td>\n",
              "    </tr>\n",
              "  </tbody>\n",
              "</table>\n",
              "</div>\n",
              "    <div class=\"colab-df-buttons\">\n",
              "\n",
              "  <div class=\"colab-df-container\">\n",
              "    <button class=\"colab-df-convert\" onclick=\"convertToInteractive('df-bf34eb91-863b-49c9-96f2-1cf7457d9455')\"\n",
              "            title=\"Convert this dataframe to an interactive table.\"\n",
              "            style=\"display:none;\">\n",
              "\n",
              "  <svg xmlns=\"http://www.w3.org/2000/svg\" height=\"24px\" viewBox=\"0 -960 960 960\">\n",
              "    <path d=\"M120-120v-720h720v720H120Zm60-500h600v-160H180v160Zm220 220h160v-160H400v160Zm0 220h160v-160H400v160ZM180-400h160v-160H180v160Zm440 0h160v-160H620v160ZM180-180h160v-160H180v160Zm440 0h160v-160H620v160Z\"/>\n",
              "  </svg>\n",
              "    </button>\n",
              "\n",
              "  <style>\n",
              "    .colab-df-container {\n",
              "      display:flex;\n",
              "      gap: 12px;\n",
              "    }\n",
              "\n",
              "    .colab-df-convert {\n",
              "      background-color: #E8F0FE;\n",
              "      border: none;\n",
              "      border-radius: 50%;\n",
              "      cursor: pointer;\n",
              "      display: none;\n",
              "      fill: #1967D2;\n",
              "      height: 32px;\n",
              "      padding: 0 0 0 0;\n",
              "      width: 32px;\n",
              "    }\n",
              "\n",
              "    .colab-df-convert:hover {\n",
              "      background-color: #E2EBFA;\n",
              "      box-shadow: 0px 1px 2px rgba(60, 64, 67, 0.3), 0px 1px 3px 1px rgba(60, 64, 67, 0.15);\n",
              "      fill: #174EA6;\n",
              "    }\n",
              "\n",
              "    .colab-df-buttons div {\n",
              "      margin-bottom: 4px;\n",
              "    }\n",
              "\n",
              "    [theme=dark] .colab-df-convert {\n",
              "      background-color: #3B4455;\n",
              "      fill: #D2E3FC;\n",
              "    }\n",
              "\n",
              "    [theme=dark] .colab-df-convert:hover {\n",
              "      background-color: #434B5C;\n",
              "      box-shadow: 0px 1px 3px 1px rgba(0, 0, 0, 0.15);\n",
              "      filter: drop-shadow(0px 1px 2px rgba(0, 0, 0, 0.3));\n",
              "      fill: #FFFFFF;\n",
              "    }\n",
              "  </style>\n",
              "\n",
              "    <script>\n",
              "      const buttonEl =\n",
              "        document.querySelector('#df-bf34eb91-863b-49c9-96f2-1cf7457d9455 button.colab-df-convert');\n",
              "      buttonEl.style.display =\n",
              "        google.colab.kernel.accessAllowed ? 'block' : 'none';\n",
              "\n",
              "      async function convertToInteractive(key) {\n",
              "        const element = document.querySelector('#df-bf34eb91-863b-49c9-96f2-1cf7457d9455');\n",
              "        const dataTable =\n",
              "          await google.colab.kernel.invokeFunction('convertToInteractive',\n",
              "                                                    [key], {});\n",
              "        if (!dataTable) return;\n",
              "\n",
              "        const docLinkHtml = 'Like what you see? Visit the ' +\n",
              "          '<a target=\"_blank\" href=https://colab.research.google.com/notebooks/data_table.ipynb>data table notebook</a>'\n",
              "          + ' to learn more about interactive tables.';\n",
              "        element.innerHTML = '';\n",
              "        dataTable['output_type'] = 'display_data';\n",
              "        await google.colab.output.renderOutput(dataTable, element);\n",
              "        const docLink = document.createElement('div');\n",
              "        docLink.innerHTML = docLinkHtml;\n",
              "        element.appendChild(docLink);\n",
              "      }\n",
              "    </script>\n",
              "  </div>\n",
              "\n",
              "\n",
              "<div id=\"df-c432f8d1-c3ff-41d0-9a46-80b3a27944b2\">\n",
              "  <button class=\"colab-df-quickchart\" onclick=\"quickchart('df-c432f8d1-c3ff-41d0-9a46-80b3a27944b2')\"\n",
              "            title=\"Suggest charts\"\n",
              "            style=\"display:none;\">\n",
              "\n",
              "<svg xmlns=\"http://www.w3.org/2000/svg\" height=\"24px\"viewBox=\"0 0 24 24\"\n",
              "     width=\"24px\">\n",
              "    <g>\n",
              "        <path d=\"M19 3H5c-1.1 0-2 .9-2 2v14c0 1.1.9 2 2 2h14c1.1 0 2-.9 2-2V5c0-1.1-.9-2-2-2zM9 17H7v-7h2v7zm4 0h-2V7h2v10zm4 0h-2v-4h2v4z\"/>\n",
              "    </g>\n",
              "</svg>\n",
              "  </button>\n",
              "\n",
              "<style>\n",
              "  .colab-df-quickchart {\n",
              "      --bg-color: #E8F0FE;\n",
              "      --fill-color: #1967D2;\n",
              "      --hover-bg-color: #E2EBFA;\n",
              "      --hover-fill-color: #174EA6;\n",
              "      --disabled-fill-color: #AAA;\n",
              "      --disabled-bg-color: #DDD;\n",
              "  }\n",
              "\n",
              "  [theme=dark] .colab-df-quickchart {\n",
              "      --bg-color: #3B4455;\n",
              "      --fill-color: #D2E3FC;\n",
              "      --hover-bg-color: #434B5C;\n",
              "      --hover-fill-color: #FFFFFF;\n",
              "      --disabled-bg-color: #3B4455;\n",
              "      --disabled-fill-color: #666;\n",
              "  }\n",
              "\n",
              "  .colab-df-quickchart {\n",
              "    background-color: var(--bg-color);\n",
              "    border: none;\n",
              "    border-radius: 50%;\n",
              "    cursor: pointer;\n",
              "    display: none;\n",
              "    fill: var(--fill-color);\n",
              "    height: 32px;\n",
              "    padding: 0;\n",
              "    width: 32px;\n",
              "  }\n",
              "\n",
              "  .colab-df-quickchart:hover {\n",
              "    background-color: var(--hover-bg-color);\n",
              "    box-shadow: 0 1px 2px rgba(60, 64, 67, 0.3), 0 1px 3px 1px rgba(60, 64, 67, 0.15);\n",
              "    fill: var(--button-hover-fill-color);\n",
              "  }\n",
              "\n",
              "  .colab-df-quickchart-complete:disabled,\n",
              "  .colab-df-quickchart-complete:disabled:hover {\n",
              "    background-color: var(--disabled-bg-color);\n",
              "    fill: var(--disabled-fill-color);\n",
              "    box-shadow: none;\n",
              "  }\n",
              "\n",
              "  .colab-df-spinner {\n",
              "    border: 2px solid var(--fill-color);\n",
              "    border-color: transparent;\n",
              "    border-bottom-color: var(--fill-color);\n",
              "    animation:\n",
              "      spin 1s steps(1) infinite;\n",
              "  }\n",
              "\n",
              "  @keyframes spin {\n",
              "    0% {\n",
              "      border-color: transparent;\n",
              "      border-bottom-color: var(--fill-color);\n",
              "      border-left-color: var(--fill-color);\n",
              "    }\n",
              "    20% {\n",
              "      border-color: transparent;\n",
              "      border-left-color: var(--fill-color);\n",
              "      border-top-color: var(--fill-color);\n",
              "    }\n",
              "    30% {\n",
              "      border-color: transparent;\n",
              "      border-left-color: var(--fill-color);\n",
              "      border-top-color: var(--fill-color);\n",
              "      border-right-color: var(--fill-color);\n",
              "    }\n",
              "    40% {\n",
              "      border-color: transparent;\n",
              "      border-right-color: var(--fill-color);\n",
              "      border-top-color: var(--fill-color);\n",
              "    }\n",
              "    60% {\n",
              "      border-color: transparent;\n",
              "      border-right-color: var(--fill-color);\n",
              "    }\n",
              "    80% {\n",
              "      border-color: transparent;\n",
              "      border-right-color: var(--fill-color);\n",
              "      border-bottom-color: var(--fill-color);\n",
              "    }\n",
              "    90% {\n",
              "      border-color: transparent;\n",
              "      border-bottom-color: var(--fill-color);\n",
              "    }\n",
              "  }\n",
              "</style>\n",
              "\n",
              "  <script>\n",
              "    async function quickchart(key) {\n",
              "      const quickchartButtonEl =\n",
              "        document.querySelector('#' + key + ' button');\n",
              "      quickchartButtonEl.disabled = true;  // To prevent multiple clicks.\n",
              "      quickchartButtonEl.classList.add('colab-df-spinner');\n",
              "      try {\n",
              "        const charts = await google.colab.kernel.invokeFunction(\n",
              "            'suggestCharts', [key], {});\n",
              "      } catch (error) {\n",
              "        console.error('Error during call to suggestCharts:', error);\n",
              "      }\n",
              "      quickchartButtonEl.classList.remove('colab-df-spinner');\n",
              "      quickchartButtonEl.classList.add('colab-df-quickchart-complete');\n",
              "    }\n",
              "    (() => {\n",
              "      let quickchartButtonEl =\n",
              "        document.querySelector('#df-c432f8d1-c3ff-41d0-9a46-80b3a27944b2 button');\n",
              "      quickchartButtonEl.style.display =\n",
              "        google.colab.kernel.accessAllowed ? 'block' : 'none';\n",
              "    })();\n",
              "  </script>\n",
              "</div>\n",
              "\n",
              "    </div>\n",
              "  </div>\n"
            ],
            "application/vnd.google.colaboratory.intrinsic+json": {
              "type": "dataframe",
              "summary": "{\n  \"name\": \"products\",\n  \"rows\": 8,\n  \"fields\": [\n    {\n      \"column\": \"id\",\n      \"properties\": {\n        \"dtype\": \"Float64\",\n        \"num_unique_values\": 6,\n        \"samples\": [\n          29120.0,\n          14560.5,\n          21840.25\n        ],\n        \"semantic_type\": \"\",\n        \"description\": \"\"\n      }\n    },\n    {\n      \"column\": \"cost\",\n      \"properties\": {\n        \"dtype\": \"number\",\n        \"std\": 10262.768533312093,\n        \"min\": 0.0082999997779726,\n        \"max\": 29120.0,\n        \"num_unique_values\": 8,\n        \"samples\": [\n          28.481774240436962,\n          19.67508088509746,\n          29120.0\n        ],\n        \"semantic_type\": \"\",\n        \"description\": \"\"\n      }\n    },\n    {\n      \"column\": \"retail_price\",\n      \"properties\": {\n        \"dtype\": \"number\",\n        \"std\": 10237.423869472685,\n        \"min\": 0.0199999995529651,\n        \"max\": 29120.0,\n        \"num_unique_values\": 8,\n        \"samples\": [\n          59.220163865731955,\n          39.9900016784668,\n          29120.0\n        ],\n        \"semantic_type\": \"\",\n        \"description\": \"\"\n      }\n    },\n    {\n      \"column\": \"distribution_center_id\",\n      \"properties\": {\n        \"dtype\": \"Float64\",\n        \"num_unique_values\": 8,\n        \"samples\": [\n          4.982898351648352,\n          5.0,\n          29120.0\n        ],\n        \"semantic_type\": \"\",\n        \"description\": \"\"\n      }\n    }\n  ]\n}"
            },
            "application/vnd.google.colaboratory.module+javascript": "\n      import \"https://ssl.gstatic.com/colaboratory/data_table/e523c247d1e24a05/data_table.js\";\n\n      const table = window.createDataTable({\n        data: [[\"count\",\n{\n            'v': 29120.0,\n            'f': \"29120.0\",\n        },\n{\n            'v': 29120.0,\n            'f': \"29120.0\",\n        },\n{\n            'v': 29120.0,\n            'f': \"29120.0\",\n        },\n{\n            'v': 29120.0,\n            'f': \"29120.0\",\n        }],\n [\"mean\",\n{\n            'v': 14560.5,\n            'f': \"14560.5\",\n        },\n{\n            'v': 28.481774240436962,\n            'f': \"28.481774240436962\",\n        },\n{\n            'v': 59.220163865731955,\n            'f': \"59.220163865731955\",\n        },\n{\n            'v': 4.982898351648352,\n            'f': \"4.982898351648352\",\n        }],\n [\"std\",\n{\n            'v': 8406.364255729108,\n            'f': \"8406.364255729108\",\n        },\n{\n            'v': 30.62468121437778,\n            'f': \"30.62468121437778\",\n        },\n{\n            'v': 65.888926695758,\n            'f': \"65.888926695758\",\n        },\n{\n            'v': 2.9011525517653043,\n            'f': \"2.9011525517653043\",\n        }],\n [\"min\",\n{\n            'v': 1.0,\n            'f': \"1.0\",\n        },\n{\n            'v': 0.0082999997779726,\n            'f': \"0.0082999997779726\",\n        },\n{\n            'v': 0.0199999995529651,\n            'f': \"0.0199999995529651\",\n        },\n{\n            'v': 1.0,\n            'f': \"1.0\",\n        }],\n [\"25%\",\n{\n            'v': 7280.75,\n            'f': \"7280.75\",\n        },\n{\n            'v': 11.275612827121094,\n            'f': \"11.275612827121094\",\n        },\n{\n            'v': 24.0,\n            'f': \"24.0\",\n        },\n{\n            'v': 2.0,\n            'f': \"2.0\",\n        }],\n [\"50%\",\n{\n            'v': 14560.5,\n            'f': \"14560.5\",\n        },\n{\n            'v': 19.67508088509746,\n            'f': \"19.67508088509746\",\n        },\n{\n            'v': 39.9900016784668,\n            'f': \"39.9900016784668\",\n        },\n{\n            'v': 5.0,\n            'f': \"5.0\",\n        }],\n [\"75%\",\n{\n            'v': 21840.25,\n            'f': \"21840.25\",\n        },\n{\n            'v': 34.43999997526407,\n            'f': \"34.43999997526407\",\n        },\n{\n            'v': 69.94999694824219,\n            'f': \"69.94999694824219\",\n        },\n{\n            'v': 8.0,\n            'f': \"8.0\",\n        }],\n [\"max\",\n{\n            'v': 29120.0,\n            'f': \"29120.0\",\n        },\n{\n            'v': 557.1510021798313,\n            'f': \"557.1510021798313\",\n        },\n{\n            'v': 999.0,\n            'f': \"999.0\",\n        },\n{\n            'v': 10.0,\n            'f': \"10.0\",\n        }]],\n        columns: [[\"string\", \"index\"], [\"number\", \"id\"], [\"number\", \"cost\"], [\"number\", \"retail_price\"], [\"number\", \"distribution_center_id\"]],\n        columnOptions: [{\"width\": \"1px\", \"className\": \"index_column\"}],\n        rowsPerPage: 25,\n        helpUrl: \"https://colab.research.google.com/notebooks/data_table.ipynb\",\n        suppressOutputScrolling: true,\n        minimumWidth: undefined,\n      });\n\n      function appendQuickchartButton(parentElement) {\n        let quickchartButtonContainerElement = document.createElement('div');\n        quickchartButtonContainerElement.innerHTML = `\n<div id=\"df-e4f2f3c4-dc05-4aa4-81ed-02a5035f937a\">\n  <button class=\"colab-df-quickchart\" onclick=\"quickchart('df-e4f2f3c4-dc05-4aa4-81ed-02a5035f937a')\"\n            title=\"Suggest charts\"\n            style=\"display:none;\">\n    \n<svg xmlns=\"http://www.w3.org/2000/svg\" height=\"24px\"viewBox=\"0 0 24 24\"\n     width=\"24px\">\n    <g>\n        <path d=\"M19 3H5c-1.1 0-2 .9-2 2v14c0 1.1.9 2 2 2h14c1.1 0 2-.9 2-2V5c0-1.1-.9-2-2-2zM9 17H7v-7h2v7zm4 0h-2V7h2v10zm4 0h-2v-4h2v4z\"/>\n    </g>\n</svg>\n  </button>\n  \n<style>\n  .colab-df-quickchart {\n      --bg-color: #E8F0FE;\n      --fill-color: #1967D2;\n      --hover-bg-color: #E2EBFA;\n      --hover-fill-color: #174EA6;\n      --disabled-fill-color: #AAA;\n      --disabled-bg-color: #DDD;\n  }\n\n  [theme=dark] .colab-df-quickchart {\n      --bg-color: #3B4455;\n      --fill-color: #D2E3FC;\n      --hover-bg-color: #434B5C;\n      --hover-fill-color: #FFFFFF;\n      --disabled-bg-color: #3B4455;\n      --disabled-fill-color: #666;\n  }\n\n  .colab-df-quickchart {\n    background-color: var(--bg-color);\n    border: none;\n    border-radius: 50%;\n    cursor: pointer;\n    display: none;\n    fill: var(--fill-color);\n    height: 32px;\n    padding: 0;\n    width: 32px;\n  }\n\n  .colab-df-quickchart:hover {\n    background-color: var(--hover-bg-color);\n    box-shadow: 0 1px 2px rgba(60, 64, 67, 0.3), 0 1px 3px 1px rgba(60, 64, 67, 0.15);\n    fill: var(--button-hover-fill-color);\n  }\n\n  .colab-df-quickchart-complete:disabled,\n  .colab-df-quickchart-complete:disabled:hover {\n    background-color: var(--disabled-bg-color);\n    fill: var(--disabled-fill-color);\n    box-shadow: none;\n  }\n\n  .colab-df-spinner {\n    border: 2px solid var(--fill-color);\n    border-color: transparent;\n    border-bottom-color: var(--fill-color);\n    animation:\n      spin 1s steps(1) infinite;\n  }\n\n  @keyframes spin {\n    0% {\n      border-color: transparent;\n      border-bottom-color: var(--fill-color);\n      border-left-color: var(--fill-color);\n    }\n    20% {\n      border-color: transparent;\n      border-left-color: var(--fill-color);\n      border-top-color: var(--fill-color);\n    }\n    30% {\n      border-color: transparent;\n      border-left-color: var(--fill-color);\n      border-top-color: var(--fill-color);\n      border-right-color: var(--fill-color);\n    }\n    40% {\n      border-color: transparent;\n      border-right-color: var(--fill-color);\n      border-top-color: var(--fill-color);\n    }\n    60% {\n      border-color: transparent;\n      border-right-color: var(--fill-color);\n    }\n    80% {\n      border-color: transparent;\n      border-right-color: var(--fill-color);\n      border-bottom-color: var(--fill-color);\n    }\n    90% {\n      border-color: transparent;\n      border-bottom-color: var(--fill-color);\n    }\n  }\n</style>\n\n  <script>\n    async function quickchart(key) {\n      const quickchartButtonEl =\n        document.querySelector('#' + key + ' button');\n      quickchartButtonEl.disabled = true;  // To prevent multiple clicks.\n      quickchartButtonEl.classList.add('colab-df-spinner');\n      try {\n        const charts = await google.colab.kernel.invokeFunction(\n            'suggestCharts', [key], {});\n      } catch (error) {\n        console.error('Error during call to suggestCharts:', error);\n      }\n      quickchartButtonEl.classList.remove('colab-df-spinner');\n      quickchartButtonEl.classList.add('colab-df-quickchart-complete');\n    }\n    (() => {\n      let quickchartButtonEl =\n        document.querySelector('#df-e4f2f3c4-dc05-4aa4-81ed-02a5035f937a button');\n      quickchartButtonEl.style.display =\n        google.colab.kernel.accessAllowed ? 'block' : 'none';\n    })();\n  </script>\n</div>`;\n        parentElement.appendChild(quickchartButtonContainerElement);\n      }\n\n      appendQuickchartButton(table);\n    "
          },
          "metadata": {},
          "execution_count": 17
        }
      ]
    },
    {
      "cell_type": "code",
      "source": [
        "products['profit'] = products['retail_price'] - products['cost']\n",
        "products.head()"
      ],
      "metadata": {
        "colab": {
          "base_uri": "https://localhost:8080/",
          "height": 305
        },
        "id": "LR48iXgZgq0-",
        "outputId": "16ca2fac-74d3-4780-cee9-dbef1f24344e"
      },
      "execution_count": null,
      "outputs": [
        {
          "output_type": "execute_result",
          "data": {
            "text/plain": [
              "      id     cost     category  \\\n",
              "0  13842  2.51875  Accessories   \n",
              "1  13928  2.33835  Accessories   \n",
              "2  14115  4.87956  Accessories   \n",
              "3  14157  4.64877  Accessories   \n",
              "4  14273  6.50793  Accessories   \n",
              "\n",
              "                                                name brand  retail_price  \\\n",
              "0   Low Profile Dyed Cotton Twill Cap - Navy W39S55D    MG          6.25   \n",
              "1  Low Profile Dyed Cotton Twill Cap - Putty W39S55D    MG          5.95   \n",
              "2       Enzyme Regular Solid Army Caps-Black W35S45D    MG         10.99   \n",
              "3  Enzyme Regular Solid Army Caps-Olive W35S45D (...    MG         10.99   \n",
              "4              Washed Canvas Ivy Cap - Black W11S64C    MG         15.99   \n",
              "\n",
              "  department                               sku  distribution_center_id  \\\n",
              "0      Women  EBD58B8A3F1D72F4206201DA62FB1204                       1   \n",
              "1      Women  2EAC42424D12436BDD6A5B8A88480CC3                       1   \n",
              "2      Women  EE364229B2791D1EF9355708EFF0BA34                       1   \n",
              "3      Women  00BD13095D06C20B11A2993CA419D16B                       1   \n",
              "4      Women  F531DC20FDE20B7ADF3A73F52B71D0AF                       1   \n",
              "\n",
              "    profit  \n",
              "0  3.73125  \n",
              "1  3.61165  \n",
              "2  6.11044  \n",
              "3  6.34123  \n",
              "4  9.48207  "
            ],
            "text/html": [
              "\n",
              "  <div id=\"df-c147d94a-7c67-40a7-a8c2-efc3eb7dc560\" class=\"colab-df-container\">\n",
              "    <div>\n",
              "<style scoped>\n",
              "    .dataframe tbody tr th:only-of-type {\n",
              "        vertical-align: middle;\n",
              "    }\n",
              "\n",
              "    .dataframe tbody tr th {\n",
              "        vertical-align: top;\n",
              "    }\n",
              "\n",
              "    .dataframe thead th {\n",
              "        text-align: right;\n",
              "    }\n",
              "</style>\n",
              "<table border=\"1\" class=\"dataframe\">\n",
              "  <thead>\n",
              "    <tr style=\"text-align: right;\">\n",
              "      <th></th>\n",
              "      <th>id</th>\n",
              "      <th>cost</th>\n",
              "      <th>category</th>\n",
              "      <th>name</th>\n",
              "      <th>brand</th>\n",
              "      <th>retail_price</th>\n",
              "      <th>department</th>\n",
              "      <th>sku</th>\n",
              "      <th>distribution_center_id</th>\n",
              "      <th>profit</th>\n",
              "    </tr>\n",
              "  </thead>\n",
              "  <tbody>\n",
              "    <tr>\n",
              "      <th>0</th>\n",
              "      <td>13842</td>\n",
              "      <td>2.51875</td>\n",
              "      <td>Accessories</td>\n",
              "      <td>Low Profile Dyed Cotton Twill Cap - Navy W39S55D</td>\n",
              "      <td>MG</td>\n",
              "      <td>6.25</td>\n",
              "      <td>Women</td>\n",
              "      <td>EBD58B8A3F1D72F4206201DA62FB1204</td>\n",
              "      <td>1</td>\n",
              "      <td>3.73125</td>\n",
              "    </tr>\n",
              "    <tr>\n",
              "      <th>1</th>\n",
              "      <td>13928</td>\n",
              "      <td>2.33835</td>\n",
              "      <td>Accessories</td>\n",
              "      <td>Low Profile Dyed Cotton Twill Cap - Putty W39S55D</td>\n",
              "      <td>MG</td>\n",
              "      <td>5.95</td>\n",
              "      <td>Women</td>\n",
              "      <td>2EAC42424D12436BDD6A5B8A88480CC3</td>\n",
              "      <td>1</td>\n",
              "      <td>3.61165</td>\n",
              "    </tr>\n",
              "    <tr>\n",
              "      <th>2</th>\n",
              "      <td>14115</td>\n",
              "      <td>4.87956</td>\n",
              "      <td>Accessories</td>\n",
              "      <td>Enzyme Regular Solid Army Caps-Black W35S45D</td>\n",
              "      <td>MG</td>\n",
              "      <td>10.99</td>\n",
              "      <td>Women</td>\n",
              "      <td>EE364229B2791D1EF9355708EFF0BA34</td>\n",
              "      <td>1</td>\n",
              "      <td>6.11044</td>\n",
              "    </tr>\n",
              "    <tr>\n",
              "      <th>3</th>\n",
              "      <td>14157</td>\n",
              "      <td>4.64877</td>\n",
              "      <td>Accessories</td>\n",
              "      <td>Enzyme Regular Solid Army Caps-Olive W35S45D (...</td>\n",
              "      <td>MG</td>\n",
              "      <td>10.99</td>\n",
              "      <td>Women</td>\n",
              "      <td>00BD13095D06C20B11A2993CA419D16B</td>\n",
              "      <td>1</td>\n",
              "      <td>6.34123</td>\n",
              "    </tr>\n",
              "    <tr>\n",
              "      <th>4</th>\n",
              "      <td>14273</td>\n",
              "      <td>6.50793</td>\n",
              "      <td>Accessories</td>\n",
              "      <td>Washed Canvas Ivy Cap - Black W11S64C</td>\n",
              "      <td>MG</td>\n",
              "      <td>15.99</td>\n",
              "      <td>Women</td>\n",
              "      <td>F531DC20FDE20B7ADF3A73F52B71D0AF</td>\n",
              "      <td>1</td>\n",
              "      <td>9.48207</td>\n",
              "    </tr>\n",
              "  </tbody>\n",
              "</table>\n",
              "</div>\n",
              "    <div class=\"colab-df-buttons\">\n",
              "\n",
              "  <div class=\"colab-df-container\">\n",
              "    <button class=\"colab-df-convert\" onclick=\"convertToInteractive('df-c147d94a-7c67-40a7-a8c2-efc3eb7dc560')\"\n",
              "            title=\"Convert this dataframe to an interactive table.\"\n",
              "            style=\"display:none;\">\n",
              "\n",
              "  <svg xmlns=\"http://www.w3.org/2000/svg\" height=\"24px\" viewBox=\"0 -960 960 960\">\n",
              "    <path d=\"M120-120v-720h720v720H120Zm60-500h600v-160H180v160Zm220 220h160v-160H400v160Zm0 220h160v-160H400v160ZM180-400h160v-160H180v160Zm440 0h160v-160H620v160ZM180-180h160v-160H180v160Zm440 0h160v-160H620v160Z\"/>\n",
              "  </svg>\n",
              "    </button>\n",
              "\n",
              "  <style>\n",
              "    .colab-df-container {\n",
              "      display:flex;\n",
              "      gap: 12px;\n",
              "    }\n",
              "\n",
              "    .colab-df-convert {\n",
              "      background-color: #E8F0FE;\n",
              "      border: none;\n",
              "      border-radius: 50%;\n",
              "      cursor: pointer;\n",
              "      display: none;\n",
              "      fill: #1967D2;\n",
              "      height: 32px;\n",
              "      padding: 0 0 0 0;\n",
              "      width: 32px;\n",
              "    }\n",
              "\n",
              "    .colab-df-convert:hover {\n",
              "      background-color: #E2EBFA;\n",
              "      box-shadow: 0px 1px 2px rgba(60, 64, 67, 0.3), 0px 1px 3px 1px rgba(60, 64, 67, 0.15);\n",
              "      fill: #174EA6;\n",
              "    }\n",
              "\n",
              "    .colab-df-buttons div {\n",
              "      margin-bottom: 4px;\n",
              "    }\n",
              "\n",
              "    [theme=dark] .colab-df-convert {\n",
              "      background-color: #3B4455;\n",
              "      fill: #D2E3FC;\n",
              "    }\n",
              "\n",
              "    [theme=dark] .colab-df-convert:hover {\n",
              "      background-color: #434B5C;\n",
              "      box-shadow: 0px 1px 3px 1px rgba(0, 0, 0, 0.15);\n",
              "      filter: drop-shadow(0px 1px 2px rgba(0, 0, 0, 0.3));\n",
              "      fill: #FFFFFF;\n",
              "    }\n",
              "  </style>\n",
              "\n",
              "    <script>\n",
              "      const buttonEl =\n",
              "        document.querySelector('#df-c147d94a-7c67-40a7-a8c2-efc3eb7dc560 button.colab-df-convert');\n",
              "      buttonEl.style.display =\n",
              "        google.colab.kernel.accessAllowed ? 'block' : 'none';\n",
              "\n",
              "      async function convertToInteractive(key) {\n",
              "        const element = document.querySelector('#df-c147d94a-7c67-40a7-a8c2-efc3eb7dc560');\n",
              "        const dataTable =\n",
              "          await google.colab.kernel.invokeFunction('convertToInteractive',\n",
              "                                                    [key], {});\n",
              "        if (!dataTable) return;\n",
              "\n",
              "        const docLinkHtml = 'Like what you see? Visit the ' +\n",
              "          '<a target=\"_blank\" href=https://colab.research.google.com/notebooks/data_table.ipynb>data table notebook</a>'\n",
              "          + ' to learn more about interactive tables.';\n",
              "        element.innerHTML = '';\n",
              "        dataTable['output_type'] = 'display_data';\n",
              "        await google.colab.output.renderOutput(dataTable, element);\n",
              "        const docLink = document.createElement('div');\n",
              "        docLink.innerHTML = docLinkHtml;\n",
              "        element.appendChild(docLink);\n",
              "      }\n",
              "    </script>\n",
              "  </div>\n",
              "\n",
              "\n",
              "<div id=\"df-bcc7b9c0-f0e7-49cd-ac91-66614f6efb4a\">\n",
              "  <button class=\"colab-df-quickchart\" onclick=\"quickchart('df-bcc7b9c0-f0e7-49cd-ac91-66614f6efb4a')\"\n",
              "            title=\"Suggest charts\"\n",
              "            style=\"display:none;\">\n",
              "\n",
              "<svg xmlns=\"http://www.w3.org/2000/svg\" height=\"24px\"viewBox=\"0 0 24 24\"\n",
              "     width=\"24px\">\n",
              "    <g>\n",
              "        <path d=\"M19 3H5c-1.1 0-2 .9-2 2v14c0 1.1.9 2 2 2h14c1.1 0 2-.9 2-2V5c0-1.1-.9-2-2-2zM9 17H7v-7h2v7zm4 0h-2V7h2v10zm4 0h-2v-4h2v4z\"/>\n",
              "    </g>\n",
              "</svg>\n",
              "  </button>\n",
              "\n",
              "<style>\n",
              "  .colab-df-quickchart {\n",
              "      --bg-color: #E8F0FE;\n",
              "      --fill-color: #1967D2;\n",
              "      --hover-bg-color: #E2EBFA;\n",
              "      --hover-fill-color: #174EA6;\n",
              "      --disabled-fill-color: #AAA;\n",
              "      --disabled-bg-color: #DDD;\n",
              "  }\n",
              "\n",
              "  [theme=dark] .colab-df-quickchart {\n",
              "      --bg-color: #3B4455;\n",
              "      --fill-color: #D2E3FC;\n",
              "      --hover-bg-color: #434B5C;\n",
              "      --hover-fill-color: #FFFFFF;\n",
              "      --disabled-bg-color: #3B4455;\n",
              "      --disabled-fill-color: #666;\n",
              "  }\n",
              "\n",
              "  .colab-df-quickchart {\n",
              "    background-color: var(--bg-color);\n",
              "    border: none;\n",
              "    border-radius: 50%;\n",
              "    cursor: pointer;\n",
              "    display: none;\n",
              "    fill: var(--fill-color);\n",
              "    height: 32px;\n",
              "    padding: 0;\n",
              "    width: 32px;\n",
              "  }\n",
              "\n",
              "  .colab-df-quickchart:hover {\n",
              "    background-color: var(--hover-bg-color);\n",
              "    box-shadow: 0 1px 2px rgba(60, 64, 67, 0.3), 0 1px 3px 1px rgba(60, 64, 67, 0.15);\n",
              "    fill: var(--button-hover-fill-color);\n",
              "  }\n",
              "\n",
              "  .colab-df-quickchart-complete:disabled,\n",
              "  .colab-df-quickchart-complete:disabled:hover {\n",
              "    background-color: var(--disabled-bg-color);\n",
              "    fill: var(--disabled-fill-color);\n",
              "    box-shadow: none;\n",
              "  }\n",
              "\n",
              "  .colab-df-spinner {\n",
              "    border: 2px solid var(--fill-color);\n",
              "    border-color: transparent;\n",
              "    border-bottom-color: var(--fill-color);\n",
              "    animation:\n",
              "      spin 1s steps(1) infinite;\n",
              "  }\n",
              "\n",
              "  @keyframes spin {\n",
              "    0% {\n",
              "      border-color: transparent;\n",
              "      border-bottom-color: var(--fill-color);\n",
              "      border-left-color: var(--fill-color);\n",
              "    }\n",
              "    20% {\n",
              "      border-color: transparent;\n",
              "      border-left-color: var(--fill-color);\n",
              "      border-top-color: var(--fill-color);\n",
              "    }\n",
              "    30% {\n",
              "      border-color: transparent;\n",
              "      border-left-color: var(--fill-color);\n",
              "      border-top-color: var(--fill-color);\n",
              "      border-right-color: var(--fill-color);\n",
              "    }\n",
              "    40% {\n",
              "      border-color: transparent;\n",
              "      border-right-color: var(--fill-color);\n",
              "      border-top-color: var(--fill-color);\n",
              "    }\n",
              "    60% {\n",
              "      border-color: transparent;\n",
              "      border-right-color: var(--fill-color);\n",
              "    }\n",
              "    80% {\n",
              "      border-color: transparent;\n",
              "      border-right-color: var(--fill-color);\n",
              "      border-bottom-color: var(--fill-color);\n",
              "    }\n",
              "    90% {\n",
              "      border-color: transparent;\n",
              "      border-bottom-color: var(--fill-color);\n",
              "    }\n",
              "  }\n",
              "</style>\n",
              "\n",
              "  <script>\n",
              "    async function quickchart(key) {\n",
              "      const quickchartButtonEl =\n",
              "        document.querySelector('#' + key + ' button');\n",
              "      quickchartButtonEl.disabled = true;  // To prevent multiple clicks.\n",
              "      quickchartButtonEl.classList.add('colab-df-spinner');\n",
              "      try {\n",
              "        const charts = await google.colab.kernel.invokeFunction(\n",
              "            'suggestCharts', [key], {});\n",
              "      } catch (error) {\n",
              "        console.error('Error during call to suggestCharts:', error);\n",
              "      }\n",
              "      quickchartButtonEl.classList.remove('colab-df-spinner');\n",
              "      quickchartButtonEl.classList.add('colab-df-quickchart-complete');\n",
              "    }\n",
              "    (() => {\n",
              "      let quickchartButtonEl =\n",
              "        document.querySelector('#df-bcc7b9c0-f0e7-49cd-ac91-66614f6efb4a button');\n",
              "      quickchartButtonEl.style.display =\n",
              "        google.colab.kernel.accessAllowed ? 'block' : 'none';\n",
              "    })();\n",
              "  </script>\n",
              "</div>\n",
              "\n",
              "    </div>\n",
              "  </div>\n"
            ],
            "application/vnd.google.colaboratory.intrinsic+json": {
              "type": "dataframe",
              "variable_name": "products",
              "summary": "{\n  \"name\": \"products\",\n  \"rows\": 29120,\n  \"fields\": [\n    {\n      \"column\": \"id\",\n      \"properties\": {\n        \"dtype\": \"Int64\",\n        \"num_unique_values\": 29120,\n        \"samples\": [\n          11102,\n          5735,\n          20529\n        ],\n        \"semantic_type\": \"\",\n        \"description\": \"\"\n      }\n    },\n    {\n      \"column\": \"cost\",\n      \"properties\": {\n        \"dtype\": \"number\",\n        \"std\": 30.62468121437778,\n        \"min\": 0.0082999997779726,\n        \"max\": 557.1510021798313,\n        \"num_unique_values\": 26375,\n        \"samples\": [\n          29.361729019159892,\n          13.425099805022684,\n          19.034049825680256\n        ],\n        \"semantic_type\": \"\",\n        \"description\": \"\"\n      }\n    },\n    {\n      \"column\": \"category\",\n      \"properties\": {\n        \"dtype\": \"category\",\n        \"num_unique_values\": 26,\n        \"samples\": [\n          \"Fashion Hoodies & Sweatshirts\",\n          \"Maternity\",\n          \"Accessories\"\n        ],\n        \"semantic_type\": \"\",\n        \"description\": \"\"\n      }\n    },\n    {\n      \"column\": \"name\",\n      \"properties\": {\n        \"dtype\": \"string\",\n        \"num_unique_values\": 27309,\n        \"samples\": [\n          \"Nintendo Super Mario Luigi Allover Mens Zip-Up Adult Hooded Sweatshirt Hoodie\",\n          \"Men's Single Breasted 2 Button Black Extra Fine Slim Fit Tuxedo\",\n          \"Perry Ellis Men's Flat Front Stretch Twill Pant\"\n        ],\n        \"semantic_type\": \"\",\n        \"description\": \"\"\n      }\n    },\n    {\n      \"column\": \"brand\",\n      \"properties\": {\n        \"dtype\": \"category\",\n        \"num_unique_values\": 2756,\n        \"samples\": [\n          \"Aero Tech Designs\",\n          \"Jumpin Jammerz\",\n          \"Abini\"\n        ],\n        \"semantic_type\": \"\",\n        \"description\": \"\"\n      }\n    },\n    {\n      \"column\": \"retail_price\",\n      \"properties\": {\n        \"dtype\": \"number\",\n        \"std\": 65.888926695758,\n        \"min\": 0.0199999995529651,\n        \"max\": 999.0,\n        \"num_unique_values\": 4194,\n        \"samples\": [\n          127.9499969482422,\n          42.09999847412109,\n          28.979999542236328\n        ],\n        \"semantic_type\": \"\",\n        \"description\": \"\"\n      }\n    },\n    {\n      \"column\": \"department\",\n      \"properties\": {\n        \"dtype\": \"category\",\n        \"num_unique_values\": 2,\n        \"samples\": [\n          \"Men\",\n          \"Women\"\n        ],\n        \"semantic_type\": \"\",\n        \"description\": \"\"\n      }\n    },\n    {\n      \"column\": \"sku\",\n      \"properties\": {\n        \"dtype\": \"string\",\n        \"num_unique_values\": 29120,\n        \"samples\": [\n          \"52C4608C2F126708211B9E0A60EAF050\",\n          \"6D34D468AC8876333C4D7173B85EFED9\"\n        ],\n        \"semantic_type\": \"\",\n        \"description\": \"\"\n      }\n    },\n    {\n      \"column\": \"distribution_center_id\",\n      \"properties\": {\n        \"dtype\": \"Int64\",\n        \"num_unique_values\": 10,\n        \"samples\": [\n          9,\n          2\n        ],\n        \"semantic_type\": \"\",\n        \"description\": \"\"\n      }\n    },\n    {\n      \"column\": \"profit\",\n      \"properties\": {\n        \"dtype\": \"number\",\n        \"std\": 36.25141208312484,\n        \"min\": 0.011699999774992502,\n        \"max\": 594.4049988090992,\n        \"num_unique_values\": 26396,\n        \"samples\": [\n          10.55250002653338,\n          71.86299961060287\n        ],\n        \"semantic_type\": \"\",\n        \"description\": \"\"\n      }\n    }\n  ]\n}"
            },
            "application/vnd.google.colaboratory.module+javascript": "\n      import \"https://ssl.gstatic.com/colaboratory/data_table/e523c247d1e24a05/data_table.js\";\n\n      const table = window.createDataTable({\n        data: [[{\n            'v': 0,\n            'f': \"0\",\n        },\n{\n            'v': 13842,\n            'f': \"13842\",\n        },\n{\n            'v': 2.518749990849756,\n            'f': \"2.518749990849756\",\n        },\n\"Accessories\",\n\"Low Profile Dyed Cotton Twill Cap - Navy W39S55D\",\n\"MG\",\n{\n            'v': 6.25,\n            'f': \"6.25\",\n        },\n\"Women\",\n\"EBD58B8A3F1D72F4206201DA62FB1204\",\n{\n            'v': 1,\n            'f': \"1\",\n        },\n{\n            'v': 3.731250009150244,\n            'f': \"3.731250009150244\",\n        }],\n [{\n            'v': 1,\n            'f': \"1\",\n        },\n{\n            'v': 13928,\n            'f': \"13928\",\n        },\n{\n            'v': 2.3383499148894105,\n            'f': \"2.3383499148894105\",\n        },\n\"Accessories\",\n\"Low Profile Dyed Cotton Twill Cap - Putty W39S55D\",\n\"MG\",\n{\n            'v': 5.949999809265137,\n            'f': \"5.949999809265137\",\n        },\n\"Women\",\n\"2EAC42424D12436BDD6A5B8A88480CC3\",\n{\n            'v': 1,\n            'f': \"1\",\n        },\n{\n            'v': 3.6116498943757263,\n            'f': \"3.6116498943757263\",\n        }],\n [{\n            'v': 2,\n            'f': \"2\",\n        },\n{\n            'v': 14115,\n            'f': \"14115\",\n        },\n{\n            'v': 4.879559879379869,\n            'f': \"4.879559879379869\",\n        },\n\"Accessories\",\n\"Enzyme Regular Solid Army Caps-Black W35S45D\",\n\"MG\",\n{\n            'v': 10.989999771118164,\n            'f': \"10.989999771118164\",\n        },\n\"Women\",\n\"EE364229B2791D1EF9355708EFF0BA34\",\n{\n            'v': 1,\n            'f': \"1\",\n        },\n{\n            'v': 6.110439891738295,\n            'f': \"6.110439891738295\",\n        }],\n [{\n            'v': 3,\n            'f': \"3\",\n        },\n{\n            'v': 14157,\n            'f': \"14157\",\n        },\n{\n            'v': 4.648769887297898,\n            'f': \"4.648769887297898\",\n        },\n\"Accessories\",\n\"Enzyme Regular Solid Army Caps-Olive W35S45D (One Size)\",\n\"MG\",\n{\n            'v': 10.989999771118164,\n            'f': \"10.989999771118164\",\n        },\n\"Women\",\n\"00BD13095D06C20B11A2993CA419D16B\",\n{\n            'v': 1,\n            'f': \"1\",\n        },\n{\n            'v': 6.341229883820266,\n            'f': \"6.341229883820266\",\n        }],\n [{\n            'v': 4,\n            'f': \"4\",\n        },\n{\n            'v': 14273,\n            'f': \"14273\",\n        },\n{\n            'v': 6.507929886473045,\n            'f': \"6.507929886473045\",\n        },\n\"Accessories\",\n\"Washed Canvas Ivy Cap - Black W11S64C\",\n\"MG\",\n{\n            'v': 15.989999771118164,\n            'f': \"15.989999771118164\",\n        },\n\"Women\",\n\"F531DC20FDE20B7ADF3A73F52B71D0AF\",\n{\n            'v': 1,\n            'f': \"1\",\n        },\n{\n            'v': 9.482069884645119,\n            'f': \"9.482069884645119\",\n        }]],\n        columns: [[\"number\", \"index\"], [\"number\", \"id\"], [\"number\", \"cost\"], [\"string\", \"category\"], [\"string\", \"name\"], [\"string\", \"brand\"], [\"number\", \"retail_price\"], [\"string\", \"department\"], [\"string\", \"sku\"], [\"number\", \"distribution_center_id\"], [\"number\", \"profit\"]],\n        columnOptions: [{\"width\": \"1px\", \"className\": \"index_column\"}],\n        rowsPerPage: 25,\n        helpUrl: \"https://colab.research.google.com/notebooks/data_table.ipynb\",\n        suppressOutputScrolling: true,\n        minimumWidth: undefined,\n      });\n\n      function appendQuickchartButton(parentElement) {\n        let quickchartButtonContainerElement = document.createElement('div');\n        quickchartButtonContainerElement.innerHTML = `\n<div id=\"df-2ddd7281-7b2f-440f-a2fe-381cc138eae0\">\n  <button class=\"colab-df-quickchart\" onclick=\"quickchart('df-2ddd7281-7b2f-440f-a2fe-381cc138eae0')\"\n            title=\"Suggest charts\"\n            style=\"display:none;\">\n    \n<svg xmlns=\"http://www.w3.org/2000/svg\" height=\"24px\"viewBox=\"0 0 24 24\"\n     width=\"24px\">\n    <g>\n        <path d=\"M19 3H5c-1.1 0-2 .9-2 2v14c0 1.1.9 2 2 2h14c1.1 0 2-.9 2-2V5c0-1.1-.9-2-2-2zM9 17H7v-7h2v7zm4 0h-2V7h2v10zm4 0h-2v-4h2v4z\"/>\n    </g>\n</svg>\n  </button>\n  \n<style>\n  .colab-df-quickchart {\n      --bg-color: #E8F0FE;\n      --fill-color: #1967D2;\n      --hover-bg-color: #E2EBFA;\n      --hover-fill-color: #174EA6;\n      --disabled-fill-color: #AAA;\n      --disabled-bg-color: #DDD;\n  }\n\n  [theme=dark] .colab-df-quickchart {\n      --bg-color: #3B4455;\n      --fill-color: #D2E3FC;\n      --hover-bg-color: #434B5C;\n      --hover-fill-color: #FFFFFF;\n      --disabled-bg-color: #3B4455;\n      --disabled-fill-color: #666;\n  }\n\n  .colab-df-quickchart {\n    background-color: var(--bg-color);\n    border: none;\n    border-radius: 50%;\n    cursor: pointer;\n    display: none;\n    fill: var(--fill-color);\n    height: 32px;\n    padding: 0;\n    width: 32px;\n  }\n\n  .colab-df-quickchart:hover {\n    background-color: var(--hover-bg-color);\n    box-shadow: 0 1px 2px rgba(60, 64, 67, 0.3), 0 1px 3px 1px rgba(60, 64, 67, 0.15);\n    fill: var(--button-hover-fill-color);\n  }\n\n  .colab-df-quickchart-complete:disabled,\n  .colab-df-quickchart-complete:disabled:hover {\n    background-color: var(--disabled-bg-color);\n    fill: var(--disabled-fill-color);\n    box-shadow: none;\n  }\n\n  .colab-df-spinner {\n    border: 2px solid var(--fill-color);\n    border-color: transparent;\n    border-bottom-color: var(--fill-color);\n    animation:\n      spin 1s steps(1) infinite;\n  }\n\n  @keyframes spin {\n    0% {\n      border-color: transparent;\n      border-bottom-color: var(--fill-color);\n      border-left-color: var(--fill-color);\n    }\n    20% {\n      border-color: transparent;\n      border-left-color: var(--fill-color);\n      border-top-color: var(--fill-color);\n    }\n    30% {\n      border-color: transparent;\n      border-left-color: var(--fill-color);\n      border-top-color: var(--fill-color);\n      border-right-color: var(--fill-color);\n    }\n    40% {\n      border-color: transparent;\n      border-right-color: var(--fill-color);\n      border-top-color: var(--fill-color);\n    }\n    60% {\n      border-color: transparent;\n      border-right-color: var(--fill-color);\n    }\n    80% {\n      border-color: transparent;\n      border-right-color: var(--fill-color);\n      border-bottom-color: var(--fill-color);\n    }\n    90% {\n      border-color: transparent;\n      border-bottom-color: var(--fill-color);\n    }\n  }\n</style>\n\n  <script>\n    async function quickchart(key) {\n      const quickchartButtonEl =\n        document.querySelector('#' + key + ' button');\n      quickchartButtonEl.disabled = true;  // To prevent multiple clicks.\n      quickchartButtonEl.classList.add('colab-df-spinner');\n      try {\n        const charts = await google.colab.kernel.invokeFunction(\n            'suggestCharts', [key], {});\n      } catch (error) {\n        console.error('Error during call to suggestCharts:', error);\n      }\n      quickchartButtonEl.classList.remove('colab-df-spinner');\n      quickchartButtonEl.classList.add('colab-df-quickchart-complete');\n    }\n    (() => {\n      let quickchartButtonEl =\n        document.querySelector('#df-2ddd7281-7b2f-440f-a2fe-381cc138eae0 button');\n      quickchartButtonEl.style.display =\n        google.colab.kernel.accessAllowed ? 'block' : 'none';\n    })();\n  </script>\n</div>`;\n        parentElement.appendChild(quickchartButtonContainerElement);\n      }\n\n      appendQuickchartButton(table);\n    "
          },
          "metadata": {},
          "execution_count": 18
        }
      ]
    },
    {
      "cell_type": "code",
      "source": [
        "products[['cost', 'retail_price', 'profit']].describe()"
      ],
      "metadata": {
        "colab": {
          "base_uri": "https://localhost:8080/",
          "height": 288
        },
        "id": "u8mmvEVGguQz",
        "outputId": "bdabb0d6-d7b2-4664-8b2f-43158c513ec1"
      },
      "execution_count": null,
      "outputs": [
        {
          "output_type": "execute_result",
          "data": {
            "text/plain": [
              "               cost  retail_price        profit\n",
              "count  29120.000000  29120.000000  29120.000000\n",
              "mean      28.481774     59.220164     30.738390\n",
              "std       30.624681     65.888927     36.251412\n",
              "min        0.008300      0.020000      0.011700\n",
              "25%       11.275613     24.000000     11.607833\n",
              "50%       19.675081     39.990002     20.059720\n",
              "75%       34.440000     69.949997     35.840000\n",
              "max      557.151002    999.000000    594.404999"
            ],
            "text/html": [
              "\n",
              "  <div id=\"df-6983054a-8e6b-45d5-8b44-248bf2568568\" class=\"colab-df-container\">\n",
              "    <div>\n",
              "<style scoped>\n",
              "    .dataframe tbody tr th:only-of-type {\n",
              "        vertical-align: middle;\n",
              "    }\n",
              "\n",
              "    .dataframe tbody tr th {\n",
              "        vertical-align: top;\n",
              "    }\n",
              "\n",
              "    .dataframe thead th {\n",
              "        text-align: right;\n",
              "    }\n",
              "</style>\n",
              "<table border=\"1\" class=\"dataframe\">\n",
              "  <thead>\n",
              "    <tr style=\"text-align: right;\">\n",
              "      <th></th>\n",
              "      <th>cost</th>\n",
              "      <th>retail_price</th>\n",
              "      <th>profit</th>\n",
              "    </tr>\n",
              "  </thead>\n",
              "  <tbody>\n",
              "    <tr>\n",
              "      <th>count</th>\n",
              "      <td>29120.000000</td>\n",
              "      <td>29120.000000</td>\n",
              "      <td>29120.000000</td>\n",
              "    </tr>\n",
              "    <tr>\n",
              "      <th>mean</th>\n",
              "      <td>28.481774</td>\n",
              "      <td>59.220164</td>\n",
              "      <td>30.738390</td>\n",
              "    </tr>\n",
              "    <tr>\n",
              "      <th>std</th>\n",
              "      <td>30.624681</td>\n",
              "      <td>65.888927</td>\n",
              "      <td>36.251412</td>\n",
              "    </tr>\n",
              "    <tr>\n",
              "      <th>min</th>\n",
              "      <td>0.008300</td>\n",
              "      <td>0.020000</td>\n",
              "      <td>0.011700</td>\n",
              "    </tr>\n",
              "    <tr>\n",
              "      <th>25%</th>\n",
              "      <td>11.275613</td>\n",
              "      <td>24.000000</td>\n",
              "      <td>11.607833</td>\n",
              "    </tr>\n",
              "    <tr>\n",
              "      <th>50%</th>\n",
              "      <td>19.675081</td>\n",
              "      <td>39.990002</td>\n",
              "      <td>20.059720</td>\n",
              "    </tr>\n",
              "    <tr>\n",
              "      <th>75%</th>\n",
              "      <td>34.440000</td>\n",
              "      <td>69.949997</td>\n",
              "      <td>35.840000</td>\n",
              "    </tr>\n",
              "    <tr>\n",
              "      <th>max</th>\n",
              "      <td>557.151002</td>\n",
              "      <td>999.000000</td>\n",
              "      <td>594.404999</td>\n",
              "    </tr>\n",
              "  </tbody>\n",
              "</table>\n",
              "</div>\n",
              "    <div class=\"colab-df-buttons\">\n",
              "\n",
              "  <div class=\"colab-df-container\">\n",
              "    <button class=\"colab-df-convert\" onclick=\"convertToInteractive('df-6983054a-8e6b-45d5-8b44-248bf2568568')\"\n",
              "            title=\"Convert this dataframe to an interactive table.\"\n",
              "            style=\"display:none;\">\n",
              "\n",
              "  <svg xmlns=\"http://www.w3.org/2000/svg\" height=\"24px\" viewBox=\"0 -960 960 960\">\n",
              "    <path d=\"M120-120v-720h720v720H120Zm60-500h600v-160H180v160Zm220 220h160v-160H400v160Zm0 220h160v-160H400v160ZM180-400h160v-160H180v160Zm440 0h160v-160H620v160ZM180-180h160v-160H180v160Zm440 0h160v-160H620v160Z\"/>\n",
              "  </svg>\n",
              "    </button>\n",
              "\n",
              "  <style>\n",
              "    .colab-df-container {\n",
              "      display:flex;\n",
              "      gap: 12px;\n",
              "    }\n",
              "\n",
              "    .colab-df-convert {\n",
              "      background-color: #E8F0FE;\n",
              "      border: none;\n",
              "      border-radius: 50%;\n",
              "      cursor: pointer;\n",
              "      display: none;\n",
              "      fill: #1967D2;\n",
              "      height: 32px;\n",
              "      padding: 0 0 0 0;\n",
              "      width: 32px;\n",
              "    }\n",
              "\n",
              "    .colab-df-convert:hover {\n",
              "      background-color: #E2EBFA;\n",
              "      box-shadow: 0px 1px 2px rgba(60, 64, 67, 0.3), 0px 1px 3px 1px rgba(60, 64, 67, 0.15);\n",
              "      fill: #174EA6;\n",
              "    }\n",
              "\n",
              "    .colab-df-buttons div {\n",
              "      margin-bottom: 4px;\n",
              "    }\n",
              "\n",
              "    [theme=dark] .colab-df-convert {\n",
              "      background-color: #3B4455;\n",
              "      fill: #D2E3FC;\n",
              "    }\n",
              "\n",
              "    [theme=dark] .colab-df-convert:hover {\n",
              "      background-color: #434B5C;\n",
              "      box-shadow: 0px 1px 3px 1px rgba(0, 0, 0, 0.15);\n",
              "      filter: drop-shadow(0px 1px 2px rgba(0, 0, 0, 0.3));\n",
              "      fill: #FFFFFF;\n",
              "    }\n",
              "  </style>\n",
              "\n",
              "    <script>\n",
              "      const buttonEl =\n",
              "        document.querySelector('#df-6983054a-8e6b-45d5-8b44-248bf2568568 button.colab-df-convert');\n",
              "      buttonEl.style.display =\n",
              "        google.colab.kernel.accessAllowed ? 'block' : 'none';\n",
              "\n",
              "      async function convertToInteractive(key) {\n",
              "        const element = document.querySelector('#df-6983054a-8e6b-45d5-8b44-248bf2568568');\n",
              "        const dataTable =\n",
              "          await google.colab.kernel.invokeFunction('convertToInteractive',\n",
              "                                                    [key], {});\n",
              "        if (!dataTable) return;\n",
              "\n",
              "        const docLinkHtml = 'Like what you see? Visit the ' +\n",
              "          '<a target=\"_blank\" href=https://colab.research.google.com/notebooks/data_table.ipynb>data table notebook</a>'\n",
              "          + ' to learn more about interactive tables.';\n",
              "        element.innerHTML = '';\n",
              "        dataTable['output_type'] = 'display_data';\n",
              "        await google.colab.output.renderOutput(dataTable, element);\n",
              "        const docLink = document.createElement('div');\n",
              "        docLink.innerHTML = docLinkHtml;\n",
              "        element.appendChild(docLink);\n",
              "      }\n",
              "    </script>\n",
              "  </div>\n",
              "\n",
              "\n",
              "<div id=\"df-8cdf1e56-7e3b-48bb-ae10-6cc0aa80b020\">\n",
              "  <button class=\"colab-df-quickchart\" onclick=\"quickchart('df-8cdf1e56-7e3b-48bb-ae10-6cc0aa80b020')\"\n",
              "            title=\"Suggest charts\"\n",
              "            style=\"display:none;\">\n",
              "\n",
              "<svg xmlns=\"http://www.w3.org/2000/svg\" height=\"24px\"viewBox=\"0 0 24 24\"\n",
              "     width=\"24px\">\n",
              "    <g>\n",
              "        <path d=\"M19 3H5c-1.1 0-2 .9-2 2v14c0 1.1.9 2 2 2h14c1.1 0 2-.9 2-2V5c0-1.1-.9-2-2-2zM9 17H7v-7h2v7zm4 0h-2V7h2v10zm4 0h-2v-4h2v4z\"/>\n",
              "    </g>\n",
              "</svg>\n",
              "  </button>\n",
              "\n",
              "<style>\n",
              "  .colab-df-quickchart {\n",
              "      --bg-color: #E8F0FE;\n",
              "      --fill-color: #1967D2;\n",
              "      --hover-bg-color: #E2EBFA;\n",
              "      --hover-fill-color: #174EA6;\n",
              "      --disabled-fill-color: #AAA;\n",
              "      --disabled-bg-color: #DDD;\n",
              "  }\n",
              "\n",
              "  [theme=dark] .colab-df-quickchart {\n",
              "      --bg-color: #3B4455;\n",
              "      --fill-color: #D2E3FC;\n",
              "      --hover-bg-color: #434B5C;\n",
              "      --hover-fill-color: #FFFFFF;\n",
              "      --disabled-bg-color: #3B4455;\n",
              "      --disabled-fill-color: #666;\n",
              "  }\n",
              "\n",
              "  .colab-df-quickchart {\n",
              "    background-color: var(--bg-color);\n",
              "    border: none;\n",
              "    border-radius: 50%;\n",
              "    cursor: pointer;\n",
              "    display: none;\n",
              "    fill: var(--fill-color);\n",
              "    height: 32px;\n",
              "    padding: 0;\n",
              "    width: 32px;\n",
              "  }\n",
              "\n",
              "  .colab-df-quickchart:hover {\n",
              "    background-color: var(--hover-bg-color);\n",
              "    box-shadow: 0 1px 2px rgba(60, 64, 67, 0.3), 0 1px 3px 1px rgba(60, 64, 67, 0.15);\n",
              "    fill: var(--button-hover-fill-color);\n",
              "  }\n",
              "\n",
              "  .colab-df-quickchart-complete:disabled,\n",
              "  .colab-df-quickchart-complete:disabled:hover {\n",
              "    background-color: var(--disabled-bg-color);\n",
              "    fill: var(--disabled-fill-color);\n",
              "    box-shadow: none;\n",
              "  }\n",
              "\n",
              "  .colab-df-spinner {\n",
              "    border: 2px solid var(--fill-color);\n",
              "    border-color: transparent;\n",
              "    border-bottom-color: var(--fill-color);\n",
              "    animation:\n",
              "      spin 1s steps(1) infinite;\n",
              "  }\n",
              "\n",
              "  @keyframes spin {\n",
              "    0% {\n",
              "      border-color: transparent;\n",
              "      border-bottom-color: var(--fill-color);\n",
              "      border-left-color: var(--fill-color);\n",
              "    }\n",
              "    20% {\n",
              "      border-color: transparent;\n",
              "      border-left-color: var(--fill-color);\n",
              "      border-top-color: var(--fill-color);\n",
              "    }\n",
              "    30% {\n",
              "      border-color: transparent;\n",
              "      border-left-color: var(--fill-color);\n",
              "      border-top-color: var(--fill-color);\n",
              "      border-right-color: var(--fill-color);\n",
              "    }\n",
              "    40% {\n",
              "      border-color: transparent;\n",
              "      border-right-color: var(--fill-color);\n",
              "      border-top-color: var(--fill-color);\n",
              "    }\n",
              "    60% {\n",
              "      border-color: transparent;\n",
              "      border-right-color: var(--fill-color);\n",
              "    }\n",
              "    80% {\n",
              "      border-color: transparent;\n",
              "      border-right-color: var(--fill-color);\n",
              "      border-bottom-color: var(--fill-color);\n",
              "    }\n",
              "    90% {\n",
              "      border-color: transparent;\n",
              "      border-bottom-color: var(--fill-color);\n",
              "    }\n",
              "  }\n",
              "</style>\n",
              "\n",
              "  <script>\n",
              "    async function quickchart(key) {\n",
              "      const quickchartButtonEl =\n",
              "        document.querySelector('#' + key + ' button');\n",
              "      quickchartButtonEl.disabled = true;  // To prevent multiple clicks.\n",
              "      quickchartButtonEl.classList.add('colab-df-spinner');\n",
              "      try {\n",
              "        const charts = await google.colab.kernel.invokeFunction(\n",
              "            'suggestCharts', [key], {});\n",
              "      } catch (error) {\n",
              "        console.error('Error during call to suggestCharts:', error);\n",
              "      }\n",
              "      quickchartButtonEl.classList.remove('colab-df-spinner');\n",
              "      quickchartButtonEl.classList.add('colab-df-quickchart-complete');\n",
              "    }\n",
              "    (() => {\n",
              "      let quickchartButtonEl =\n",
              "        document.querySelector('#df-8cdf1e56-7e3b-48bb-ae10-6cc0aa80b020 button');\n",
              "      quickchartButtonEl.style.display =\n",
              "        google.colab.kernel.accessAllowed ? 'block' : 'none';\n",
              "    })();\n",
              "  </script>\n",
              "</div>\n",
              "\n",
              "    </div>\n",
              "  </div>\n"
            ],
            "application/vnd.google.colaboratory.intrinsic+json": {
              "type": "dataframe",
              "summary": "{\n  \"name\": \"products[['cost', 'retail_price', 'profit']]\",\n  \"rows\": 8,\n  \"fields\": [\n    {\n      \"column\": \"cost\",\n      \"properties\": {\n        \"dtype\": \"number\",\n        \"std\": 10262.768533312093,\n        \"min\": 0.0082999997779726,\n        \"max\": 29120.0,\n        \"num_unique_values\": 8,\n        \"samples\": [\n          28.481774240436962,\n          19.67508088509746,\n          29120.0\n        ],\n        \"semantic_type\": \"\",\n        \"description\": \"\"\n      }\n    },\n    {\n      \"column\": \"retail_price\",\n      \"properties\": {\n        \"dtype\": \"number\",\n        \"std\": 10237.423869472685,\n        \"min\": 0.0199999995529651,\n        \"max\": 29120.0,\n        \"num_unique_values\": 8,\n        \"samples\": [\n          59.220163865731955,\n          39.9900016784668,\n          29120.0\n        ],\n        \"semantic_type\": \"\",\n        \"description\": \"\"\n      }\n    },\n    {\n      \"column\": \"profit\",\n      \"properties\": {\n        \"dtype\": \"number\",\n        \"std\": 10260.61881440954,\n        \"min\": 0.011699999774992502,\n        \"max\": 29120.0,\n        \"num_unique_values\": 8,\n        \"samples\": [\n          30.738389625294992,\n          20.059720493434668,\n          29120.0\n        ],\n        \"semantic_type\": \"\",\n        \"description\": \"\"\n      }\n    }\n  ]\n}"
            },
            "application/vnd.google.colaboratory.module+javascript": "\n      import \"https://ssl.gstatic.com/colaboratory/data_table/e523c247d1e24a05/data_table.js\";\n\n      const table = window.createDataTable({\n        data: [[\"count\",\n{\n            'v': 29120.0,\n            'f': \"29120.0\",\n        },\n{\n            'v': 29120.0,\n            'f': \"29120.0\",\n        },\n{\n            'v': 29120.0,\n            'f': \"29120.0\",\n        }],\n [\"mean\",\n{\n            'v': 28.481774240436962,\n            'f': \"28.481774240436962\",\n        },\n{\n            'v': 59.220163865731955,\n            'f': \"59.220163865731955\",\n        },\n{\n            'v': 30.738389625294992,\n            'f': \"30.738389625294992\",\n        }],\n [\"std\",\n{\n            'v': 30.62468121437778,\n            'f': \"30.62468121437778\",\n        },\n{\n            'v': 65.888926695758,\n            'f': \"65.888926695758\",\n        },\n{\n            'v': 36.25141208312484,\n            'f': \"36.25141208312484\",\n        }],\n [\"min\",\n{\n            'v': 0.0082999997779726,\n            'f': \"0.0082999997779726\",\n        },\n{\n            'v': 0.0199999995529651,\n            'f': \"0.0199999995529651\",\n        },\n{\n            'v': 0.011699999774992502,\n            'f': \"0.011699999774992502\",\n        }],\n [\"25%\",\n{\n            'v': 11.275612827121094,\n            'f': \"11.275612827121094\",\n        },\n{\n            'v': 24.0,\n            'f': \"24.0\",\n        },\n{\n            'v': 11.607832823392489,\n            'f': \"11.607832823392489\",\n        }],\n [\"50%\",\n{\n            'v': 19.67508088509746,\n            'f': \"19.67508088509746\",\n        },\n{\n            'v': 39.9900016784668,\n            'f': \"39.9900016784668\",\n        },\n{\n            'v': 20.059720493434668,\n            'f': \"20.059720493434668\",\n        }],\n [\"75%\",\n{\n            'v': 34.43999997526407,\n            'f': \"34.43999997526407\",\n        },\n{\n            'v': 69.94999694824219,\n            'f': \"69.94999694824219\",\n        },\n{\n            'v': 35.839999937452376,\n            'f': \"35.839999937452376\",\n        }],\n [\"max\",\n{\n            'v': 557.1510021798313,\n            'f': \"557.1510021798313\",\n        },\n{\n            'v': 999.0,\n            'f': \"999.0\",\n        },\n{\n            'v': 594.4049988090992,\n            'f': \"594.4049988090992\",\n        }]],\n        columns: [[\"string\", \"index\"], [\"number\", \"cost\"], [\"number\", \"retail_price\"], [\"number\", \"profit\"]],\n        columnOptions: [{\"width\": \"1px\", \"className\": \"index_column\"}],\n        rowsPerPage: 25,\n        helpUrl: \"https://colab.research.google.com/notebooks/data_table.ipynb\",\n        suppressOutputScrolling: true,\n        minimumWidth: undefined,\n      });\n\n      function appendQuickchartButton(parentElement) {\n        let quickchartButtonContainerElement = document.createElement('div');\n        quickchartButtonContainerElement.innerHTML = `\n<div id=\"df-72eed245-b14c-4131-ab5d-129a306916ec\">\n  <button class=\"colab-df-quickchart\" onclick=\"quickchart('df-72eed245-b14c-4131-ab5d-129a306916ec')\"\n            title=\"Suggest charts\"\n            style=\"display:none;\">\n    \n<svg xmlns=\"http://www.w3.org/2000/svg\" height=\"24px\"viewBox=\"0 0 24 24\"\n     width=\"24px\">\n    <g>\n        <path d=\"M19 3H5c-1.1 0-2 .9-2 2v14c0 1.1.9 2 2 2h14c1.1 0 2-.9 2-2V5c0-1.1-.9-2-2-2zM9 17H7v-7h2v7zm4 0h-2V7h2v10zm4 0h-2v-4h2v4z\"/>\n    </g>\n</svg>\n  </button>\n  \n<style>\n  .colab-df-quickchart {\n      --bg-color: #E8F0FE;\n      --fill-color: #1967D2;\n      --hover-bg-color: #E2EBFA;\n      --hover-fill-color: #174EA6;\n      --disabled-fill-color: #AAA;\n      --disabled-bg-color: #DDD;\n  }\n\n  [theme=dark] .colab-df-quickchart {\n      --bg-color: #3B4455;\n      --fill-color: #D2E3FC;\n      --hover-bg-color: #434B5C;\n      --hover-fill-color: #FFFFFF;\n      --disabled-bg-color: #3B4455;\n      --disabled-fill-color: #666;\n  }\n\n  .colab-df-quickchart {\n    background-color: var(--bg-color);\n    border: none;\n    border-radius: 50%;\n    cursor: pointer;\n    display: none;\n    fill: var(--fill-color);\n    height: 32px;\n    padding: 0;\n    width: 32px;\n  }\n\n  .colab-df-quickchart:hover {\n    background-color: var(--hover-bg-color);\n    box-shadow: 0 1px 2px rgba(60, 64, 67, 0.3), 0 1px 3px 1px rgba(60, 64, 67, 0.15);\n    fill: var(--button-hover-fill-color);\n  }\n\n  .colab-df-quickchart-complete:disabled,\n  .colab-df-quickchart-complete:disabled:hover {\n    background-color: var(--disabled-bg-color);\n    fill: var(--disabled-fill-color);\n    box-shadow: none;\n  }\n\n  .colab-df-spinner {\n    border: 2px solid var(--fill-color);\n    border-color: transparent;\n    border-bottom-color: var(--fill-color);\n    animation:\n      spin 1s steps(1) infinite;\n  }\n\n  @keyframes spin {\n    0% {\n      border-color: transparent;\n      border-bottom-color: var(--fill-color);\n      border-left-color: var(--fill-color);\n    }\n    20% {\n      border-color: transparent;\n      border-left-color: var(--fill-color);\n      border-top-color: var(--fill-color);\n    }\n    30% {\n      border-color: transparent;\n      border-left-color: var(--fill-color);\n      border-top-color: var(--fill-color);\n      border-right-color: var(--fill-color);\n    }\n    40% {\n      border-color: transparent;\n      border-right-color: var(--fill-color);\n      border-top-color: var(--fill-color);\n    }\n    60% {\n      border-color: transparent;\n      border-right-color: var(--fill-color);\n    }\n    80% {\n      border-color: transparent;\n      border-right-color: var(--fill-color);\n      border-bottom-color: var(--fill-color);\n    }\n    90% {\n      border-color: transparent;\n      border-bottom-color: var(--fill-color);\n    }\n  }\n</style>\n\n  <script>\n    async function quickchart(key) {\n      const quickchartButtonEl =\n        document.querySelector('#' + key + ' button');\n      quickchartButtonEl.disabled = true;  // To prevent multiple clicks.\n      quickchartButtonEl.classList.add('colab-df-spinner');\n      try {\n        const charts = await google.colab.kernel.invokeFunction(\n            'suggestCharts', [key], {});\n      } catch (error) {\n        console.error('Error during call to suggestCharts:', error);\n      }\n      quickchartButtonEl.classList.remove('colab-df-spinner');\n      quickchartButtonEl.classList.add('colab-df-quickchart-complete');\n    }\n    (() => {\n      let quickchartButtonEl =\n        document.querySelector('#df-72eed245-b14c-4131-ab5d-129a306916ec button');\n      quickchartButtonEl.style.display =\n        google.colab.kernel.accessAllowed ? 'block' : 'none';\n    })();\n  </script>\n</div>`;\n        parentElement.appendChild(quickchartButtonContainerElement);\n      }\n\n      appendQuickchartButton(table);\n    "
          },
          "metadata": {},
          "execution_count": 19
        }
      ]
    },
    {
      "cell_type": "code",
      "source": [
        "# get average profit by category\n",
        "avg_profit = products.groupby('category')['profit'].mean()\n",
        "\n",
        "# order from highest to least profitable\n",
        "avg_profit = avg_profit.sort_values(ascending=True)\n",
        "\n",
        "# use horizontal bars\n",
        "plt.barh(avg_profit.index, avg_profit, color='pink')\n",
        "\n",
        "# add x and y labels\n",
        "plt.xlabel('Average Profit ($)')\n",
        "plt.ylabel('Category')\n",
        "\n",
        "# add title\n",
        "plt.title('Average Profit by Category')\n"
      ],
      "metadata": {
        "colab": {
          "base_uri": "https://localhost:8080/",
          "height": 489
        },
        "id": "CKIMDxWeg8Ra",
        "outputId": "15f9abfb-5924-47db-a5fb-d608c5d12de0"
      },
      "execution_count": null,
      "outputs": [
        {
          "output_type": "execute_result",
          "data": {
            "text/plain": [
              "Text(0.5, 1.0, 'Average Profit by Category')"
            ]
          },
          "metadata": {},
          "execution_count": 26
        },
        {
          "output_type": "display_data",
          "data": {
            "text/plain": [
              "<Figure size 640x480 with 1 Axes>"
            ],
            "image/png": "[encoded data removed]"
          },
          "metadata": {}
        }
      ]
    },
    {
      "cell_type": "code",
      "source": [
        "# box plot of profit by category, don't show outliers\n",
        "products.boxplot(column='profit', by='category', figsize=(10, 6), showfliers=False)\n",
        "\n",
        "# add title\n",
        "plt.title('Product Profit by Category')\n",
        "\n",
        "# turn category labels 90 degrees\n",
        "plt.xticks(rotation=90)\n",
        "\n",
        "# add axis labels\n",
        "plt.xlabel('Category')\n",
        "plt.ylabel('Profit ($)')"
      ],
      "metadata": {
        "colab": {
          "base_uri": "https://localhost:8080/",
          "height": 794
        },
        "id": "L_OhfEGduVOg",
        "outputId": "aaa2e720-465d-4cad-caee-d12f45fdbd75"
      },
      "execution_count": null,
      "outputs": [
        {
          "output_type": "execute_result",
          "data": {
            "text/plain": [
              "Text(0, 0.5, 'Profit ($)')"
            ]
          },
          "metadata": {},
          "execution_count": 32
        },
        {
          "output_type": "display_data",
          "data": {
            "text/plain": [
              "<Figure size 1000x600 with 1 Axes>"
            ],
            "image/png": "[encoded data removed]"
          },
          "metadata": {}
        }
      ]
    }
  ],
  "metadata": {
    "colab": {
      "provenance": [],
      "include_colab_link": true
    },
    "kernelspec": {
      "display_name": "Python 3",
      "name": "python3"
    }
  },
  "nbformat": 4,
  "nbformat_minor": 0
}