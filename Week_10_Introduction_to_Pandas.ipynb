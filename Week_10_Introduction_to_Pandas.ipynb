{
  "nbformat": 4,
  "nbformat_minor": 0,
  "metadata": {
    "colab": {
      "provenance": [],
      "include_colab_link": true
    },
    "kernelspec": {
      "name": "python3",
      "display_name": "Python 3"
    },
    "language_info": {
      "name": "python"
    }
  },
  "cells": [
    {
      "cell_type": "markdown",
      "metadata": {
        "id": "view-in-github",
        "colab_type": "text"
      },
      "source": [
        "<a href=\"https://colab.research.google.com/github/CommunityRADvocate/ida3-fall24-colabs/blob/main/Week_10_Introduction_to_Pandas.ipynb\" target=\"_parent\"><img src=\"https://colab.research.google.com/assets/colab-badge.svg\" alt=\"Open In Colab\"/></a>"
      ]
    },
    {
      "cell_type": "markdown",
      "source": [
        "# Week 10 Activities - Welcome to Pandas!\n",
        "\n",
        "This week our activities will focus on how you can use Pandas in your project to continue analyzing your data and generate even more insights. We will also demonstrate some ways you could use Pandas with Matplotlib to create visualizations."
      ],
      "metadata": {
        "id": "RfGF0_YpniXe"
      }
    },
    {
      "cell_type": "code",
      "execution_count": null,
      "metadata": {
        "id": "7Bn_KMWqnXNy"
      },
      "outputs": [],
      "source": [
        "# This block set up the notebook by importing libraries and last cohort's data. Make sure you run it before trying to run other blocks of code!\n",
        "import pandas as pd\n",
        "import numpy as np\n",
        "import matplotlib.pyplot as plt\n",
        "\n",
        "# extension for interactive tables -- limited to 20 columns\n",
        "# %load_ext google.colab.data_table\n",
        "\n",
        "# add link to dataset\n",
        "url = 'https://raw.githubusercontent.com/CommunityRADvocate/ida2404-capstone/main/mxmh_survey_results.csv'\n",
        "# read dataset and set it as a dataframe using pandas\n",
        "df = pd.read_csv(url)\n",
        "\n",
        "# see an overview of the imported dataframe, including column headers and their indexes\n",
        "df.info()"
      ]
    },
    {
      "cell_type": "markdown",
      "source": [
        "## Cleaning and summarizing our data"
      ],
      "metadata": {
        "id": "CPozOyIDhbxW"
      }
    },
    {
      "cell_type": "markdown",
      "source": [
        "Let's get a look at some of our data. Use the [head method](https://pandas.pydata.org/docs/reference/api/pandas.DataFrame.head.html) to look at the first 5 rows"
      ],
      "metadata": {
        "id": "sG1eazx6ftzS"
      }
    },
    {
      "cell_type": "code",
      "source": [
        "# Use the head function to get a look at the first 5 rows of our data set"
      ],
      "metadata": {
        "id": "bu0rGvF8fj-u"
      },
      "execution_count": null,
      "outputs": []
    },
    {
      "cell_type": "markdown",
      "source": [
        "We know from our previous work with this data that we have some missing values. Use the [count method](https://pandas.pydata.org/docs/reference/api/pandas.DataFrame.count.html) to identify how many rows have missing information"
      ],
      "metadata": {
        "id": "x1m_tO5QgSk_"
      }
    },
    {
      "cell_type": "code",
      "source": [
        "# Use count to see the number of values in each column"
      ],
      "metadata": {
        "id": "U8oSvgbio3cd"
      },
      "execution_count": null,
      "outputs": []
    },
    {
      "cell_type": "markdown",
      "source": [
        "Let's remove any rows that have missing data. Use the [dropna method](https://pandas.pydata.org/docs/reference/api/pandas.DataFrame.dropna.html) to remove those rows, then use count again to make sure we removed them. Remember to use the inplace argument to update the original dataset instead of creating a view"
      ],
      "metadata": {
        "id": "M0gJj3LCgkf1"
      }
    },
    {
      "cell_type": "code",
      "source": [
        "# Use dropna to remove rows with missing data\n",
        "\n",
        "# Check that we have no missing values using count"
      ],
      "metadata": {
        "id": "KTTeE6oThUjo"
      },
      "execution_count": null,
      "outputs": []
    },
    {
      "cell_type": "markdown",
      "source": [
        "Let's generate some basic statistics for our data. Try using the [describe method](https://pandas.pydata.org/docs/reference/api/pandas.DataFrame.describe.html) and see what you get!"
      ],
      "metadata": {
        "id": "9n8bP8n3hfjl"
      }
    },
    {
      "cell_type": "code",
      "source": [
        "# Use the describe method with our dataframe"
      ],
      "metadata": {
        "id": "mRl2fRhRhzfe"
      },
      "execution_count": null,
      "outputs": []
    },
    {
      "cell_type": "markdown",
      "source": [
        "## Using Pandas to slice data"
      ],
      "metadata": {
        "id": "Py5YyLB4iv8i"
      }
    },
    {
      "cell_type": "markdown",
      "source": [
        "We can slice data in Pandas several different ways. We can access it by property, by label with loc, and by index with iloc."
      ],
      "metadata": {
        "id": "YYo4sF0bi0Iu"
      }
    },
    {
      "cell_type": "code",
      "source": [
        "# Use brackets to get the Fav genre column"
      ],
      "metadata": {
        "id": "gkGAEFmoiyRm"
      },
      "execution_count": null,
      "outputs": []
    },
    {
      "cell_type": "code",
      "source": [
        "# Use iloc to get the data in row # 525"
      ],
      "metadata": {
        "id": "j3ssYVy8kfwZ"
      },
      "execution_count": null,
      "outputs": []
    },
    {
      "cell_type": "markdown",
      "source": [
        "Let's add a new column to the dataframe. Let's create a column that adds up the values in Anxiety, Depression, Insomnia, and OCD and call it \"Total Mental Health\""
      ],
      "metadata": {
        "id": "Bd9QIYSdkvB-"
      }
    },
    {
      "cell_type": "code",
      "source": [
        "# Create a new column on the dataframe\n",
        "\n",
        "# Use the head method to check that our new column was successfully created"
      ],
      "metadata": {
        "id": "z3I3NgBUk-XB"
      },
      "execution_count": null,
      "outputs": []
    },
    {
      "cell_type": "markdown",
      "source": [
        "Our Timestamp column is being pulled in as an object. Let's convert it to datetime using [to_datetime](https://pandas.pydata.org/docs/reference/api/pandas.to_datetime.html), then check that it updated successfully using [dtypes](https://pandas.pydata.org/docs/reference/api/pandas.DataFrame.dtypes.html)"
      ],
      "metadata": {
        "id": "PidpXEaVl1qK"
      }
    },
    {
      "cell_type": "code",
      "source": [
        "# update the timestamp column\n",
        "df['Timestamp'] =\n",
        "\n",
        "# Use the dtypes method to check that it updated"
      ],
      "metadata": {
        "id": "-rORDVVPl1K3"
      },
      "execution_count": null,
      "outputs": []
    },
    {
      "cell_type": "markdown",
      "source": [
        "## Using Pandas to analyze data\n"
      ],
      "metadata": {
        "id": "ITHelltGlRYM"
      }
    },
    {
      "cell_type": "markdown",
      "source": [
        "Let's start anlayzing our data by getting some grouped information. Let's start by using [groupby](https://pandas.pydata.org/docs/reference/api/pandas.DataFrame.groupby.html) to group responses by streaming service and store the grouped dataframe in a variable called streaming_grouped"
      ],
      "metadata": {
        "id": "rxL8zRzMnULs"
      }
    },
    {
      "cell_type": "code",
      "source": [
        "# use groupby to group by the Primary streaming service column\n",
        "streaming_grouped = df.groupby('Primary streaming service')"
      ],
      "metadata": {
        "id": "MNjbWSyfn1Rg"
      },
      "execution_count": null,
      "outputs": []
    },
    {
      "cell_type": "markdown",
      "source": [
        "Now, we can analyze the data by the streaming service the responders use. Here is an example of getting the count of responses by group"
      ],
      "metadata": {
        "id": "lh8pgVjLoHTn"
      }
    },
    {
      "cell_type": "code",
      "source": [
        "# count the responses by streaming service\n",
        "count_by_streaming = streaming_grouped['Timestamp'].count()\n",
        "count_by_streaming"
      ],
      "metadata": {
        "id": "0lJ3_U_hoYHV"
      },
      "execution_count": null,
      "outputs": []
    },
    {
      "cell_type": "markdown",
      "source": [
        "Now, we can make a bar graph of these counts by Primary Streaming Service."
      ],
      "metadata": {
        "id": "f6Igh8ZNo6kC"
      }
    },
    {
      "cell_type": "code",
      "source": [
        "# you can just run this code as an example\n",
        "# Bar graph of responses by primary streaming service\n",
        "\n",
        "# just add plot.bar() to our counted variable\n",
        "count_by_streaming.plot.bar()\n",
        "\n",
        "# Set the x and y labels and title\n",
        "plt.xlabel('Streaming Service')\n",
        "plt.ylabel('Count')\n",
        "plt.title('Count of Responses by Primary Streaming Service')\n",
        "\n",
        "# use plot.show() to display the chart\n",
        "plt.show()"
      ],
      "metadata": {
        "id": "Ok2B-EJWo5-v"
      },
      "execution_count": null,
      "outputs": []
    },
    {
      "cell_type": "markdown",
      "source": [
        "Follow the steps above to create a bar graph of the average Total Mental Health column score by streaming service."
      ],
      "metadata": {
        "id": "StHVZkUTpgdP"
      }
    },
    {
      "cell_type": "code",
      "source": [
        "# start by averaging the Total Mental Health column by for the streaming_grouped variable and store it in a new variable"
      ],
      "metadata": {
        "id": "6POFt82mpfu8"
      },
      "execution_count": null,
      "outputs": []
    },
    {
      "cell_type": "code",
      "source": [
        "# then create a plot like the one above with appropriate labels and a title"
      ],
      "metadata": {
        "id": "769PR6dQpyHT"
      },
      "execution_count": null,
      "outputs": []
    },
    {
      "cell_type": "markdown",
      "source": [
        "Let's also analyze the percent of responders who listen to music while working. Start by grouping by the While working column, then count by group."
      ],
      "metadata": {
        "id": "-d4Y-7OdqODv"
      }
    },
    {
      "cell_type": "code",
      "source": [
        "# group the dataframe by the While working column\n",
        "\n",
        "# count the responses by group and store in a new variable\n",
        "\n",
        "# call your variable to make sure it is working correctly"
      ],
      "metadata": {
        "id": "bNZvHtyJqYKO"
      },
      "execution_count": null,
      "outputs": []
    },
    {
      "cell_type": "markdown",
      "source": [
        "Let's create a pie chart with our results! Add plot.pie() to your object, then call plt.show(). What do you get?\n",
        "\n",
        "Inside the pie() parentheses, try adding: autopct='%1.1f%%' and rerun. What is the difference?\n",
        "\n",
        "Add a title to your graph before plt.show()"
      ],
      "metadata": {
        "id": "TiLLDHtnq4J8"
      }
    },
    {
      "cell_type": "code",
      "source": [
        "# add plot.pie() to your counted variable name\n",
        "\n",
        "# call plt.show() to display"
      ],
      "metadata": {
        "id": "DYcd1J7iq1q9"
      },
      "execution_count": null,
      "outputs": []
    },
    {
      "cell_type": "code",
      "source": [
        "# Although we called plot.pie() on our counted object, we can also pass the counts to plt.pie instead. Here is an example!\n",
        "# we get the labels from the counted object using .keys()\n",
        "plt.pie(count_working, labels = count_working.keys(), autopct='%1.1f%%')\n",
        "plt.title('Percent of Responders Listening to Music While Working')\n",
        "plt.show()"
      ],
      "metadata": {
        "id": "JgrbfQPkrwPF"
      },
      "execution_count": null,
      "outputs": []
    },
    {
      "cell_type": "markdown",
      "source": [
        "Awesome work! Although we won't formally go through matplotlib, feel free to experiment with it in your projects if you'd like to create some visualizations! You have access to the [Treehouse Matplotlib module](https://teamtreehouse.com/library/introduction-to-data-visualization-with-matplotlib) if you'd like to learn on your own."
      ],
      "metadata": {
        "id": "DhGkoNI3x2TR"
      }
    }
  ]
}