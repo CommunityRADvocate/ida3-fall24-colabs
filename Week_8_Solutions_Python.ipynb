{
  "nbformat": 4,
  "nbformat_minor": 0,
  "metadata": {
    "colab": {
      "provenance": [],
      "include_colab_link": true
    },
    "kernelspec": {
      "name": "python3",
      "display_name": "Python 3"
    },
    "language_info": {
      "name": "python"
    }
  },
  "cells": [
    {
      "cell_type": "markdown",
      "metadata": {
        "id": "view-in-github",
        "colab_type": "text"
      },
      "source": [
        "<a href=\"https://colab.research.google.com/github/CommunityRADvocate/ida3-fall24-colabs/blob/main/Solutions_of_Activity_8_Python.ipynb\" target=\"_parent\"><img src=\"https://colab.research.google.com/assets/colab-badge.svg\" alt=\"Open In Colab\"/></a>"
      ]
    },
    {
      "cell_type": "markdown",
      "source": [
        "# GCode Intro to Data Analytics\n",
        "## Week 8 - Python Basics Activities (Solutions)"
      ],
      "metadata": {
        "id": "jJD550JF8I6w"
      }
    },
    {
      "cell_type": "markdown",
      "source": [
        "Welcome to the Python activities for this week! These activities have been designed to test and enhance your programming skills. In each challenge, you'll work on specific tasks, developing appropriate code structures.\n",
        "\n",
        "The objective of this exercise is to explore the basic syntax you learned throughout this week's track and to practice these concepts in real-world scenarios."
      ],
      "metadata": {
        "id": "aTZOk_gZ8Sqo"
      }
    },
    {
      "cell_type": "markdown",
      "source": [
        "### Activity 1: Simple Calculator\n",
        "Create a single-cell script that takes three user inputs:\n",
        "1. Number A\n",
        "2. Number B\n",
        "3. Operation (ADD, SUBTRACT, MULTIPLY, DIVIDE)\n",
        "\n",
        "The program should perform the specified mathematical operation on the two numbers based on the user's input. You can use the following code snippet to complete the exercise.\n",
        "\n",
        "The program should also be aware that division by 0 is not possible, and should print an error message when Number B is 0 and the selected operation is division.\n",
        "\n",
        "Tip: Ensure that you convert the user input to float (numbers)."
      ],
      "metadata": {
        "id": "Vv9xV53KKrrY"
      }
    },
    {
      "cell_type": "code",
      "source": [
        "### YOUR CODE FOR USER INPUTS GOES HERE\n",
        "operation = ''\n",
        "\n",
        "# Operation validation\n",
        "if operation == \"ADD\":\n",
        "    # STUDENT: Write code here to perform addition and print the result\n",
        "    pass  # Remove this line when adding your code\n",
        "elif operation == \"SUBTRACT\":\n",
        "    # STUDENT: Write code here to perform subtraction and print the result\n",
        "    pass  # Remove this line when adding your code\n",
        "elif operation == \"MULTIPLY\":\n",
        "    # STUDENT: Write code here to perform multiplication and print the result\n",
        "    pass  # Remove this line when adding your code\n",
        "elif operation == \"DIVIDE\":\n",
        "    # STUDENT: Write code here to perform division and print the result\n",
        "    pass  # Remove this line when adding your code\n",
        "else:\n",
        "    print(\"Invalid operation. Please enter ADD, SUBTRACT, MULTIPLY, or DIVIDE.\")\n"
      ],
      "metadata": {
        "id": "DJXFjom68SGg",
        "colab": {
          "base_uri": "https://localhost:8080/"
        },
        "outputId": "8b2d3b06-6a4c-4531-d286-178a04879a39"
      },
      "execution_count": null,
      "outputs": [
        {
          "output_type": "stream",
          "name": "stdout",
          "text": [
            "Invalid operation. Please enter ADD, SUBTRACT, MULTIPLY, or DIVIDE.\n"
          ]
        }
      ]
    },
    {
      "cell_type": "code",
      "source": [
        "# Get user inputs\n",
        "number_a = float(input(\"Enter Number A: \"))\n",
        "number_b = float(input(\"Enter Number B: \"))\n",
        "operation = input(\"Enter Operation (ADD, SUBTRACT, MULTIPLY, DIVIDE): \")\n",
        "\n",
        "# Operation validation\n",
        "if operation == \"ADD\":\n",
        "    result = number_a + number_b\n",
        "    print(f\"Result: {number_a} + {number_b} = {result}\")\n",
        "elif operation == \"SUBTRACT\":\n",
        "    result = number_a - number_b\n",
        "    print(f\"Result: {number_a} - {number_b} = {result}\")\n",
        "elif operation == \"MULTIPLY\":\n",
        "    result = number_a * number_b\n",
        "    print(f\"Result: {number_a} * {number_b} = {result}\")\n",
        "elif operation == \"DIVIDE\":\n",
        "    if number_b == 0:\n",
        "        print(\"Error: Division by zero is not allowed.\")\n",
        "    else:\n",
        "        result = number_a / number_b\n",
        "        print(f\"Result: {number_a} / {number_b} = {result}\")\n",
        "else:\n",
        "    print(\"Invalid operation. Please enter ADD, SUBTRACT, MULTIPLY, or DIVIDE.\")\n"
      ],
      "metadata": {
        "colab": {
          "base_uri": "https://localhost:8080/"
        },
        "outputId": "6bb34c28-a89a-4abb-a926-9d44cbf09438",
        "id": "fzyd7Mg_C8OD"
      },
      "execution_count": null,
      "outputs": [
        {
          "output_type": "stream",
          "name": "stdout",
          "text": [
            "Enter Number A: 10\n",
            "Enter Number B: 10\n",
            "Enter Operation (ADD, SUBTRACT, MULTIPLY, DIVIDE): MULTIPLY\n",
            "Result: 10.0 * 10.0 = 100.0\n"
          ]
        }
      ]
    },
    {
      "cell_type": "markdown",
      "source": [
        "In the previous exercise, we covered the following topics:\n",
        "\n",
        "User Input: We learned how to take user input for numbers and the desired mathematical operation.\n",
        "\n",
        "Conditional Statements: We used conditional statements (if, elif) to validate the operation and perform different calculations based on the user's choice.\n",
        "\n",
        "Basic Math Operations: We implemented basic mathematical operations, including addition, subtraction, multiplication, and division.\n",
        "\n",
        "Error Handling: We incorporated error handling to handle situations such as division by zero."
      ],
      "metadata": {
        "id": "WTV1nmT2DQdr"
      }
    },
    {
      "cell_type": "markdown",
      "source": [
        "### Activity 2: Combined ages\n",
        "*Did you know that if we combined the life experiences of all living humans, it would exceed the age of the entire universe?*\n",
        "\n",
        "In this exercise, you will write a Python script that runs in a loop, gathering the first and last names of users, along with their ages. Within the loop, two important actions should take place:\n",
        "\n",
        "1. Display a welcome message containing the user's full name and age. For example: \"Welcome, Marie Curie, 79 years old.\"\n",
        "\n",
        "2. Sum the user's age to a total_age variable, and increment a n_users counter by 1 for each user.\n",
        "\n",
        "If a user enters \"EXIT\" as their first name, the loop should terminate, and you should perform the following actions:\n",
        "\n",
        "1. Display a goodbye message.\n",
        "\n",
        "2. Print the total combined age of all users.\n",
        "\n",
        "3. Calculate and print the average age of the users by dividing the total_age by n_users.\n",
        "\n",
        "\n",
        "Tip: To exit a While loop, you can do one of the following:\n",
        "\n",
        "\n",
        "```\n",
        "while True:\n",
        "  if exit_condition == True:\n",
        "    break # this exits the While loop\n",
        "```\n",
        "\n",
        "\n",
        "```\n",
        "while looping_condition == True:\n",
        "  # looping code\n",
        "```\n",
        "\n"
      ],
      "metadata": {
        "id": "REBOsSO1KvRe"
      }
    },
    {
      "cell_type": "code",
      "source": [
        "# Initialize variables\n",
        "total_age = 0\n",
        "n_users = 0\n",
        "\n",
        "# Start the loop\n",
        "while True:\n",
        "    # Get user input for first name\n",
        "    first_name = input(\"Enter your first name (or type EXIT to quit): \")\n",
        "\n",
        "    # Check if the user wants to exit\n",
        "    if first_name.upper() == \"EXIT\":\n",
        "        break  # Exit the loop\n",
        "\n",
        "    # Get user input for last name and age\n",
        "    last_name = input(\"Enter your last name: \")\n",
        "    age = int(input(\"Enter your age: \"))\n",
        "\n",
        "    # Display welcome message\n",
        "    print(f\"Welcome, {first_name} {last_name}, {age} years old\")\n",
        "\n",
        "    # Update total age and user count\n",
        "    total_age += age\n",
        "    n_users += 1\n",
        "\n",
        "# Calculate and display results when exiting the loop\n",
        "if n_users > 0:\n",
        "    average_age = total_age / n_users\n",
        "    print(f\"Goodbye! Total combined age of users: {total_age}\")\n",
        "    print(f\"Average age of users: {average_age}\")\n",
        "else:\n",
        "    print(\"No user data entered. Goodbye!\")"
      ],
      "metadata": {
        "id": "cDTCZq2-KxGP",
        "colab": {
          "base_uri": "https://localhost:8080/"
        },
        "outputId": "4039889f-bf24-40c2-c889-8af0469315af"
      },
      "execution_count": null,
      "outputs": [
        {
          "output_type": "stream",
          "name": "stdout",
          "text": [
            "Enter your first name (or type EXIT to quit): Neil\n",
            "Enter your last name: Armstrong\n",
            "Enter your age: 10\n",
            "Welcome, Neil Armstrong, 10 years old\n",
            "Enter your first name (or type EXIT to quit): Michael\n",
            "Enter your last name: Collins\n",
            "Enter your age: 20\n",
            "Welcome, Michael Collins, 20 years old\n",
            "Enter your first name (or type EXIT to quit): Buzz\n",
            "Enter your last name: Aldrin\n",
            "Enter your age: 30\n",
            "Welcome, Buzz Aldrin, 30 years old\n",
            "Enter your first name (or type EXIT to quit): EXIT\n",
            "Goodbye! Total combined age of users: 60\n",
            "Average age of users: 20.0\n"
          ]
        }
      ]
    },
    {
      "cell_type": "markdown",
      "source": [
        "In this exercise, we explored several important concepts in Python programming:\n",
        "\n",
        "User Input: We learned how to take user input for first names, last names, and ages using the input() function.\n",
        "\n",
        "Loops: We used a while loop to repeatedly gather user information until the user chose to exit by typing 'EXIT'.\n",
        "\n",
        "Conditional Statements: We used conditional statements to check if the user entered 'EXIT' and to display welcome messages based on user input.\n",
        "\n",
        "Variables: We used variables like total_age and n_users to store and update data as users were entered.\n",
        "\n",
        "Arithmetic Operations: We performed arithmetic operations to calculate the total combined age of users and the average age.\n",
        "\n",
        "String Manipulation: We combined and displayed strings to create welcome messages with user information.\n",
        "\n",
        "Exiting Loops: We learned how to exit a loop using the break statement when a specific condition (user entering 'EXIT') is met."
      ],
      "metadata": {
        "id": "3FGCK64-GiKF"
      }
    },
    {
      "cell_type": "markdown",
      "source": [
        "### Activity 3: Text based video game\n",
        "\n",
        "Create a text-based climate change game, where the player's goal is to lower the global average temperature.\n",
        "\n",
        "Game Dynamics:\n",
        "\n",
        "- The game starts with a global average temperature of 15°C.\n",
        "- The player has a limited number of actions to take.\n",
        "- Each action the player takes will either increase or decrease the global - average temperature.\n",
        "- The player can choose from a set of actions, such as (you can use these or invent your own):\n",
        "  1. Planting trees (which decreases the temperature)\n",
        "  1. Driving a car (which increases the temperature)\n",
        "  1. Using public transportation (which decreases the temperature)\n",
        "  1. Turning off lights (which decreases the temperature)\n",
        "  1. Using more electricity (which increases the temperature)\n",
        "- After each action, the game should display the new global average temperature and how many actions the player has left. You choose how many degrees are going to increase or decrease based on the action.\n",
        "- The game ends after a set number of actions, and the player's goal is to lower the temperature as much as possible within those actions."
      ],
      "metadata": {
        "id": "OnqiCMqkKxmu"
      }
    },
    {
      "cell_type": "code",
      "source": [
        "input(\"\"\"\n",
        "Choose from one of the following actions (write only the code, i.e. 5):\n",
        "1. Planting trees.\n",
        "2. Driving a car.\n",
        "3. Using public transportation.\n",
        "4. Turning off lights.\n",
        "5. Using more electricity.\n",
        "\"\"\")"
      ],
      "metadata": {
        "id": "Rn4WmK_BK2eu",
        "colab": {
          "base_uri": "https://localhost:8080/",
          "height": 174
        },
        "outputId": "29bed334-e595-435d-93a5-59e4c595f353"
      },
      "execution_count": null,
      "outputs": [
        {
          "name": "stdout",
          "output_type": "stream",
          "text": [
            "\n",
            "Choose from one of the following actions (write only the code, i.e. 5):\n",
            "1. Planting trees.\n",
            "2. Driving a car.\n",
            "3. Using public transportation.\n",
            "4. Turning off lights.\n",
            "5. Using more electricity.\n",
            "5\n"
          ]
        },
        {
          "output_type": "execute_result",
          "data": {
            "text/plain": [
              "'5'"
            ],
            "application/vnd.google.colaboratory.intrinsic+json": {
              "type": "string"
            }
          },
          "metadata": {},
          "execution_count": 5
        }
      ]
    },
    {
      "cell_type": "code",
      "source": [
        "# Initialize variables\n",
        "global_temperature = 15\n",
        "remaining_actions = 10  # You can adjust the number of actions as needed\n",
        "\n",
        "# Game loop\n",
        "while remaining_actions > 0:\n",
        "    # Display current temperature and actions left\n",
        "    print(f\"Global Temperature: {global_temperature}°C\")\n",
        "    print(f\"Actions Left: {remaining_actions}\")\n",
        "\n",
        "    # Display the action choices and get player input\n",
        "    choice = input(\"\"\"\n",
        "Choose from one of the following actions (write only the code, i.e. 5):\n",
        "1. Planting trees.\n",
        "2. Driving a car.\n",
        "3. Using public transportation.\n",
        "4. Turning off lights.\n",
        "5. Using more electricity.\n",
        "\"\"\")\n",
        "\n",
        "    # Check the player's choice and update the temperature\n",
        "    if choice == '1':\n",
        "        global_temperature -= 2  # Planting trees decreases temperature\n",
        "    elif choice == '2':\n",
        "        global_temperature += 3  # Driving a car increases temperature\n",
        "    elif choice == '3':\n",
        "        global_temperature -= 1  # Using public transportation decreases temperature\n",
        "    elif choice == '4':\n",
        "        global_temperature -= 1  # Turning off lights decreases temperature\n",
        "    elif choice == '5':\n",
        "        global_temperature += 2  # Using more electricity increases temperature\n",
        "    else:\n",
        "        print(\"Invalid choice. Choose a valid action (1-5).\")\n",
        "        continue  # Skip the rest of the loop for invalid choices\n",
        "\n",
        "    # Decrease remaining actions\n",
        "    remaining_actions -= 1\n",
        "\n",
        "# Game over\n",
        "print(\"Game over!\")\n",
        "print(f\"Final Global Temperature: {global_temperature}°C\")\n",
        "\n",
        "# Provide feedback based on the final temperature\n",
        "if global_temperature < 15:\n",
        "    print(\"Congratulations! You successfully lowered the global temperature.\")\n",
        "elif global_temperature > 15:\n",
        "    print(\"Oh no! The global temperature increased. Try again to make a positive impact on climate change.\")\n",
        "else:\n",
        "    print(\"You maintained the global temperature. Good effort!\")\n",
        "\n",
        "# End of the game\n"
      ],
      "metadata": {
        "colab": {
          "base_uri": "https://localhost:8080/"
        },
        "id": "yjaC9bNzKjrz",
        "outputId": "a11ecd50-6a4f-4105-9f2a-76bddcfde686"
      },
      "execution_count": null,
      "outputs": [
        {
          "output_type": "stream",
          "name": "stdout",
          "text": [
            "Global Temperature: 15°C\n",
            "Actions Left: 10\n",
            "\n",
            "Choose from one of the following actions (write only the code, i.e. 5):\n",
            "1. Planting trees.\n",
            "2. Driving a car.\n",
            "3. Using public transportation.\n",
            "4. Turning off lights.\n",
            "5. Using more electricity.\n",
            "5\n",
            "Global Temperature: 17°C\n",
            "Actions Left: 9\n",
            "\n",
            "Choose from one of the following actions (write only the code, i.e. 5):\n",
            "1. Planting trees.\n",
            "2. Driving a car.\n",
            "3. Using public transportation.\n",
            "4. Turning off lights.\n",
            "5. Using more electricity.\n",
            "5\n",
            "Global Temperature: 19°C\n",
            "Actions Left: 8\n",
            "\n",
            "Choose from one of the following actions (write only the code, i.e. 5):\n",
            "1. Planting trees.\n",
            "2. Driving a car.\n",
            "3. Using public transportation.\n",
            "4. Turning off lights.\n",
            "5. Using more electricity.\n",
            "2\n",
            "Global Temperature: 22°C\n",
            "Actions Left: 7\n",
            "\n",
            "Choose from one of the following actions (write only the code, i.e. 5):\n",
            "1. Planting trees.\n",
            "2. Driving a car.\n",
            "3. Using public transportation.\n",
            "4. Turning off lights.\n",
            "5. Using more electricity.\n",
            "2\n",
            "Global Temperature: 25°C\n",
            "Actions Left: 6\n",
            "\n",
            "Choose from one of the following actions (write only the code, i.e. 5):\n",
            "1. Planting trees.\n",
            "2. Driving a car.\n",
            "3. Using public transportation.\n",
            "4. Turning off lights.\n",
            "5. Using more electricity.\n",
            "2\n",
            "Global Temperature: 28°C\n",
            "Actions Left: 5\n",
            "\n",
            "Choose from one of the following actions (write only the code, i.e. 5):\n",
            "1. Planting trees.\n",
            "2. Driving a car.\n",
            "3. Using public transportation.\n",
            "4. Turning off lights.\n",
            "5. Using more electricity.\n",
            "2\n",
            "Global Temperature: 31°C\n",
            "Actions Left: 4\n",
            "\n",
            "Choose from one of the following actions (write only the code, i.e. 5):\n",
            "1. Planting trees.\n",
            "2. Driving a car.\n",
            "3. Using public transportation.\n",
            "4. Turning off lights.\n",
            "5. Using more electricity.\n",
            "2\n",
            "Global Temperature: 34°C\n",
            "Actions Left: 3\n",
            "\n",
            "Choose from one of the following actions (write only the code, i.e. 5):\n",
            "1. Planting trees.\n",
            "2. Driving a car.\n",
            "3. Using public transportation.\n",
            "4. Turning off lights.\n",
            "5. Using more electricity.\n",
            "2\n",
            "Global Temperature: 37°C\n",
            "Actions Left: 2\n",
            "\n",
            "Choose from one of the following actions (write only the code, i.e. 5):\n",
            "1. Planting trees.\n",
            "2. Driving a car.\n",
            "3. Using public transportation.\n",
            "4. Turning off lights.\n",
            "5. Using more electricity.\n",
            "2\n",
            "Global Temperature: 40°C\n",
            "Actions Left: 1\n",
            "\n",
            "Choose from one of the following actions (write only the code, i.e. 5):\n",
            "1. Planting trees.\n",
            "2. Driving a car.\n",
            "3. Using public transportation.\n",
            "4. Turning off lights.\n",
            "5. Using more electricity.\n",
            "2\n",
            "Game over!\n",
            "Final Global Temperature: 43°C\n",
            "Oops! The global temperature increased. Try again to make a positive impact on climate change.\n"
          ]
        }
      ]
    }
  ]
}
