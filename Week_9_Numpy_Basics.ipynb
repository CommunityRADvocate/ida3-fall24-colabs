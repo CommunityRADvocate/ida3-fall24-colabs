{
  "nbformat": 4,
  "nbformat_minor": 0,
  "metadata": {
    "colab": {
      "provenance": [],
      "include_colab_link": true
    },
    "kernelspec": {
      "name": "python3",
      "display_name": "Python 3"
    },
    "language_info": {
      "name": "python"
    }
  },
  "cells": [
    {
      "cell_type": "markdown",
      "metadata": {
        "id": "view-in-github",
        "colab_type": "text"
      },
      "source": [
        "<a href=\"https://colab.research.google.com/github/CommunityRADvocate/ida3-fall24-colabs/blob/main/Week_9_Numpy_Basics.ipynb\" target=\"_parent\"><img src=\"https://colab.research.google.com/assets/colab-badge.svg\" alt=\"Open In Colab\"/></a>"
      ]
    },
    {
      "cell_type": "markdown",
      "source": [
        "# GCode Intro to Data Analytics\n",
        "## Week 9 - Numpy Basics Activities"
      ],
      "metadata": {
        "id": "jJD550JF8I6w"
      }
    },
    {
      "cell_type": "markdown",
      "source": [
        "Welcome to the Python activities for this week! These activities have been designed to test and enhance your programming skills. In each challenge, you'll work on specific tasks, developing appropriate code structures.\n",
        "\n",
        "The objective of this exercise is to explore the new syntax and functions related to the numpy library that you learned throughout this week's track and to practice these concepts in real-world scenarios."
      ],
      "metadata": {
        "id": "aTZOk_gZ8Sqo"
      }
    },
    {
      "cell_type": "markdown",
      "source": [
        "### Libraries Required"
      ],
      "metadata": {
        "id": "qMWhc_Y0s3UW"
      }
    },
    {
      "cell_type": "code",
      "source": [
        "# No changes needed: run this code block\n",
        "import numpy as np\n",
        "import matplotlib.pyplot as plt"
      ],
      "metadata": {
        "id": "tLChHhLHs2YH"
      },
      "execution_count": null,
      "outputs": []
    },
    {
      "cell_type": "markdown",
      "source": [
        "### Activity 1: School Grading System\n",
        "\n",
        "In a school setting, we have compiled a dataset representing the academic performance of students. This dataset consists of rows representing individual students and columns containing their grades in various subjects.\n",
        "\n",
        "This activity focuses on leveraging the power of NumPy to filter, extract, and analyze specific subsets of data within this dataset to gain insights into student performance and academic achievements."
      ],
      "metadata": {
        "id": "Vv9xV53KKrrY"
      }
    },
    {
      "cell_type": "code",
      "source": [
        "# No changes needed: run this code block\n",
        "np.random.seed(42)\n",
        "grades = np.random.randint(0, 101, size=(30, 6))\n",
        "print(\"The first five lines of the dataset are: \")\n",
        "grades[0:5,:]"
      ],
      "metadata": {
        "colab": {
          "base_uri": "https://localhost:8080/"
        },
        "id": "TNA3j1XPtReG",
        "outputId": "d27d2ab0-363e-4013-aefe-6e026304c8ea"
      },
      "execution_count": null,
      "outputs": [
        {
          "output_type": "stream",
          "name": "stdout",
          "text": [
            "The first five lines of the dataset are: \n"
          ]
        },
        {
          "output_type": "execute_result",
          "data": {
            "text/plain": [
              "array([[51, 92, 14, 71, 60, 20],\n",
              "       [82, 86, 74, 74, 87, 99],\n",
              "       [23,  2, 21, 52,  1, 87],\n",
              "       [29, 37,  1, 63, 59, 20],\n",
              "       [32, 75, 57, 21, 88, 48]])"
            ]
          },
          "metadata": {},
          "execution_count": 41
        }
      ]
    },
    {
      "cell_type": "markdown",
      "source": [
        "1. To review the performance of the students, you are asked to perform different calculations of statistical measures using the numpy library and store them in a numpy array.\n",
        "\n",
        "  The measurements are:\n",
        "  *   Average grade per student\n",
        "  *   Average grade per subject\n",
        "  *   Standard Deviation per subject\n"
      ],
      "metadata": {
        "id": "_B5j5tq4tRt1"
      }
    },
    {
      "cell_type": "code",
      "source": [
        "avg_st = # np . . . Your code here\n",
        "\n",
        "avg_subj = # np . . . Your code here\n",
        "\n",
        "std_subj = # np . . . Your code here"
      ],
      "metadata": {
        "id": "Ba4jGR8Uu7-8"
      },
      "execution_count": null,
      "outputs": []
    },
    {
      "cell_type": "markdown",
      "source": [
        "2. Using the matplotlib library, make the following graphs\n",
        "  *   Scatter plot of the average grade per student\n",
        "  *   Boxplot of the average grade per student"
      ],
      "metadata": {
        "id": "HVds4KD9u8vf"
      }
    },
    {
      "cell_type": "code",
      "source": [
        "# Your code here"
      ],
      "metadata": {
        "id": "Rn4WmK_BK2eu"
      },
      "execution_count": null,
      "outputs": []
    },
    {
      "cell_type": "markdown",
      "source": [
        "3. Write a code that allows you to extract the index of the 3 students with the highest average score.\n",
        "\n",
        "*Hint: Consider using this function and read the documentation*\n",
        "```\n",
        "np.argsort()\n",
        "np.argsort?\n",
        "```"
      ],
      "metadata": {
        "id": "CQA5YC8QvHNn"
      }
    },
    {
      "cell_type": "code",
      "source": [
        "# Your code here"
      ],
      "metadata": {
        "id": "Ks3L86PqvVSp"
      },
      "execution_count": null,
      "outputs": []
    },
    {
      "cell_type": "markdown",
      "source": [
        "4. Manipulation:\n",
        "*   Create a function that allows you to add a row with the grades of a new student and validate the number of elements of the array to include.\n",
        "\n",
        "*   Create a function that allows you to add a column with the grades of all students from a different subject and validate the number of elements of the array to include.\n",
        "\n",
        "\n",
        "*Hint: Consider using this functions:*\n",
        "\n",
        "```\n",
        "np.vstack()\n",
        "np.vstack? # Documentation\n",
        "\n",
        "np.column_stack()\n",
        "np.column_stack? # Documentation\n",
        "```"
      ],
      "metadata": {
        "id": "nxZ4TmrmpjHP"
      }
    },
    {
      "cell_type": "code",
      "source": [
        "# Example\n",
        "def add_new_student_grades(existing_array, new_grades):\n",
        "\n",
        "    # Verification\n",
        "    # if ...\n",
        "\n",
        "    # Append the new row of grades to the existing array\n",
        "    updated_array = \"Your code here\"\n",
        "\n",
        "    print(\"New student grades have been added successfully.\")\n",
        "    return updated_array"
      ],
      "metadata": {
        "id": "J1EH4fxzpiyF"
      },
      "execution_count": null,
      "outputs": []
    },
    {
      "cell_type": "markdown",
      "source": [
        "### Activity 2: Credit Card Number Validation"
      ],
      "metadata": {
        "id": "mi4gHypi3BJw"
      }
    },
    {
      "cell_type": "markdown",
      "source": [
        "In the modern world, credit cards play a pivotal role in our daily financial transactions, from online shopping to paying bills. However, with convenience comes the need for security. Ensuring that credit card numbers are valid is a crucial step in preventing fraud and unauthorized transactions.\n",
        "\n",
        "In this activity, we'll dive into the world of credit card number validation and explore the rules and algorithms that determine whether a credit card number is genuine or not.\n",
        "\n",
        "<br>\n",
        "\n",
        "**The Rules of Credit Card Number Validation:**\n",
        "\n",
        "\n",
        "To verify the authenticity of a credit card number, specific rules and parameters must be met. The main rules include:\n",
        "\n",
        "*   The credit card number must consist of precisely 16 digits.\n",
        "*   The sum of all the digits in the card number should be divisible by 10\n",
        "\n",
        "<br>\n",
        "\n",
        "**Classification**\n",
        "\n",
        "*   If the first digit of the credit card number is 4, it is classified as a Visa card.\n",
        "*   If the first digit of the credit card number is 5, it is classified as a MasterCard.\n",
        "*   The card numbers with a different first digit are still valid\n",
        "*   All cards must meet the main rules"
      ],
      "metadata": {
        "id": "Q-kxCOpsVJDJ"
      }
    },
    {
      "cell_type": "code",
      "source": [
        "cards = np.array([\"4638971360154580\",\"4802628150327859\",\"579389427152\",\"3450996711014900\",\"3528729554308768\",\"6246973517152048\",\"4522907329255465\",\"8470052101906908\",\n",
        "                  \"5620582490128071\",\"5733925927789833\",\"5620582490128070\",\"5381546853495930\",\"573392592778983\",\"4497495836062454\",\"8225893218441765\",\"7864777366858440\",\n",
        "                  \"4127424394801326\",\"5259599911352320\",\"4124723409529016\",\"544839740205008\",\"7709451284728213\",\"6061304246453907\",\"2790789228667629\",\"4139495833627861\"])"
      ],
      "metadata": {
        "id": "l8E_9ZDsYM8J"
      },
      "execution_count": null,
      "outputs": []
    },
    {
      "cell_type": "markdown",
      "source": [
        "Your first task is to create an algorithm that verifies whether the cards are valid or not. And return an array with the cards that meet the conditions.\n",
        "\n",
        "To do this it is recommended to use the following function structure and change the return values, but it's not mandatory"
      ],
      "metadata": {
        "id": "RJewpcMvbq2K"
      }
    },
    {
      "cell_type": "code",
      "source": [
        "def validate_credit_card(card_number):\n",
        "  #Function that returns if a card number is valid or not in a boolean value\n",
        "\n",
        "  #if Condition 1\n",
        "  return None\n",
        "\n",
        "  #if Condition 2\n",
        "  return None\n",
        "\n",
        "def filter_valid_credit_cards(cards):\n",
        "  #Function that receives the card dataset and returns another array with the valid card numbers\n",
        "\n",
        "  return None"
      ],
      "metadata": {
        "id": "s8vABv9FfGBN"
      },
      "execution_count": null,
      "outputs": []
    },
    {
      "cell_type": "markdown",
      "source": [
        "Then, separate them in three different arrays:\n",
        "*   The cards that belong to mastercard\n",
        "*   The cards that belong to visa\n",
        "*   The cards that do not belong to any of the previous ones."
      ],
      "metadata": {
        "id": "YEi287OLg_bC"
      }
    },
    {
      "cell_type": "code",
      "source": [
        "# Your code here"
      ],
      "metadata": {
        "id": "FlkHZqm0g_L3"
      },
      "execution_count": null,
      "outputs": []
    },
    {
      "cell_type": "markdown",
      "source": [
        "**Challenge: The Luhn's Algorithm**\n",
        "<br>\n",
        "\n",
        "The Luhn algorithm, developed by Hans Peter Luhn in the 1950s, is a fundamental checksum formula widely used for data validation in various fields, including credit card transactions, identification numbers, and more. It operates by performing calculations on numeric identifiers to check for errors, making it a crucial tool in ensuring data accuracy. In this overview, we'll explore the simplicity and effectiveness of the Luhn algorithm and how it has become an essential part of modern data validation processes.\n",
        "\n",
        "<br>\n",
        "\n",
        "Your task is to write the *validate_credit_card* function using the luhns algorithm replacing the second condition, for this validation.\n",
        "\n",
        "Hint: Go to this website for more information: https://www.101computing.net/is-my-credit-card-valid/"
      ],
      "metadata": {
        "id": "mrvbVbypm2wb"
      }
    },
    {
      "cell_type": "code",
      "source": [
        "def validate_credit_card(card_number):\n",
        "  #Function that returns if a card number is valid or not in a boolean value\n",
        "\n",
        "  # if Condition 1\n",
        "  return None\n",
        "\n",
        "  #Luhn algorithm\n",
        "  return None"
      ],
      "metadata": {
        "id": "9dUXjMGVobPp"
      },
      "execution_count": null,
      "outputs": []
    }
  ]
}