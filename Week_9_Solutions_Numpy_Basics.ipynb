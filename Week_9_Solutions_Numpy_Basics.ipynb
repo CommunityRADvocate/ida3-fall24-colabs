{
  "nbformat": 4,
  "nbformat_minor": 0,
  "metadata": {
    "colab": {
      "provenance": [],
      "include_colab_link": true
    },
    "kernelspec": {
      "name": "python3",
      "display_name": "Python 3"
    },
    "language_info": {
      "name": "python"
    }
  },
  "cells": [
    {
      "cell_type": "markdown",
      "metadata": {
        "id": "view-in-github",
        "colab_type": "text"
      },
      "source": [
        "<a href=\"https://colab.research.google.com/github/CommunityRADvocate/ida3-fall24-colabs/blob/main/Week_9_Solutions_Numpy_Basics.ipynb\" target=\"_parent\"><img src=\"https://colab.research.google.com/assets/colab-badge.svg\" alt=\"Open In Colab\"/></a>"
      ]
    },
    {
      "cell_type": "markdown",
      "source": [
        "# GCode Intro to Data Analytics\n",
        "## Week 9 - Numpy Basics Activities (Solutions)"
      ],
      "metadata": {
        "id": "jJD550JF8I6w"
      }
    },
    {
      "cell_type": "markdown",
      "source": [
        "Welcome to the Python activities for this week! These activities have been designed to test and enhance your programming skills. In each challenge, you'll work on specific tasks, developing appropriate code structures.\n",
        "\n",
        "The objective of this exercise is to explore the new syntax and functions related to the numpy library that you learned throughout this week's track and to practice these concepts in real-world scenarios."
      ],
      "metadata": {
        "id": "aTZOk_gZ8Sqo"
      }
    },
    {
      "cell_type": "markdown",
      "source": [
        "### Libraries Required"
      ],
      "metadata": {
        "id": "F4fneV6_v8Na"
      }
    },
    {
      "cell_type": "code",
      "source": [
        "import numpy as np\n",
        "import matplotlib.pyplot as plt"
      ],
      "metadata": {
        "id": "3L6q-bqIv8l7"
      },
      "execution_count": null,
      "outputs": []
    },
    {
      "cell_type": "markdown",
      "source": [
        "### Activity 1: School Grading System\n",
        "\n",
        "In a school setting, we have compiled a dataset representing the academic performance of students. This dataset consists of rows representing individual students and columns containing their grades in various subjects.\n",
        "\n",
        "This activity focuses on leveraging the power of NumPy to filter, extract, and analyze specific subsets of data within this dataset to gain insights into student performance and academic achievements."
      ],
      "metadata": {
        "id": "_CYD9GT_wHXF"
      }
    },
    {
      "cell_type": "code",
      "source": [
        "np.random.seed(42)\n",
        "grades = np.random.randint(0, 101, size=(30, 6))\n",
        "print(\"The first five lines of the dataset are: \")\n",
        "grades[0:5,:]"
      ],
      "metadata": {
        "colab": {
          "base_uri": "https://localhost:8080/"
        },
        "id": "UhvFV5NfwHCJ",
        "outputId": "6eeb7d93-1974-4dfb-eccf-908efd5d10e7"
      },
      "execution_count": null,
      "outputs": [
        {
          "output_type": "stream",
          "name": "stdout",
          "text": [
            "The first five lines of the dataset are: \n"
          ]
        },
        {
          "output_type": "execute_result",
          "data": {
            "text/plain": [
              "array([[51, 92, 14, 71, 60, 20],\n",
              "       [82, 86, 74, 74, 87, 99],\n",
              "       [23,  2, 21, 52,  1, 87],\n",
              "       [29, 37,  1, 63, 59, 20],\n",
              "       [32, 75, 57, 21, 88, 48]])"
            ]
          },
          "metadata": {},
          "execution_count": 5
        }
      ]
    },
    {
      "cell_type": "markdown",
      "source": [
        "1. To review the performance you are asked to perform different calculations of statistical measures using the numpy library and store them in a numpy array.\n",
        "\n",
        "  The measurements are:\n",
        "  *   Average grade per studend\n",
        "  *   Average grade per subject\n",
        "  *   Standard Deviation per subject"
      ],
      "metadata": {
        "id": "ozbkMAwhwXmE"
      }
    },
    {
      "cell_type": "code",
      "source": [
        "avg_st = np.mean(grades, axis = 1)\n",
        "\n",
        "avg_subj = np.mean(grades, axis = 0)\n",
        "\n",
        "std_subj = np.std(grades, axis = 0)\n",
        "\n",
        "print(avg_st)\n",
        "print(avg_subj)\n",
        "print(std_subj)"
      ],
      "metadata": {
        "id": "DL5XIJuvwYUs",
        "colab": {
          "base_uri": "https://localhost:8080/"
        },
        "outputId": "e33a2a58-7d27-4174-c0c5-5da29fdbd472"
      },
      "execution_count": null,
      "outputs": [
        {
          "output_type": "stream",
          "name": "stdout",
          "text": [
            "[51.33333333 83.66666667 31.         34.83333333 53.5        69.66666667\n",
            " 48.83333333 45.83333333 39.66666667 37.         58.83333333 53.5\n",
            " 19.66666667 56.         64.5        58.         57.33333333 45.5\n",
            " 52.83333333 42.16666667 28.5        37.5        58.5        69.\n",
            " 38.16666667 38.         68.83333333 60.66666667 27.         57.66666667]\n",
            "[51.7        56.66666667 48.43333333 48.8        49.76666667 42.13333333]\n",
            "[30.20060706 27.18986739 29.74747422 31.66217512 28.90753458 31.49151561]\n"
          ]
        }
      ]
    },
    {
      "cell_type": "code",
      "source": [],
      "metadata": {
        "id": "ayNOGzNbwVZ0"
      },
      "execution_count": null,
      "outputs": []
    },
    {
      "cell_type": "markdown",
      "source": [
        "2. Using the matplotlib library, make the following graphs\n",
        "  *   Scatter plot of the average grade per student\n",
        "  *   Boxplot of the average grade per student"
      ],
      "metadata": {
        "id": "uEQ1fvi3xLEJ"
      }
    },
    {
      "cell_type": "code",
      "source": [
        "np.arange(1, 31)"
      ],
      "metadata": {
        "colab": {
          "base_uri": "https://localhost:8080/"
        },
        "id": "XTCGz-Fc4UW6",
        "outputId": "8970a61c-f2d3-448e-cef3-1a2ff4e53262"
      },
      "execution_count": null,
      "outputs": [
        {
          "output_type": "execute_result",
          "data": {
            "text/plain": [
              "array([ 1,  2,  3,  4,  5,  6,  7,  8,  9, 10, 11, 12, 13, 14, 15, 16, 17,\n",
              "       18, 19, 20, 21, 22, 23, 24, 25, 26, 27, 28, 29, 30])"
            ]
          },
          "metadata": {},
          "execution_count": 3
        }
      ]
    },
    {
      "cell_type": "code",
      "source": [
        "plt.scatter(range(1,31),avg_st)\n",
        "plt.title(\"Average per Student\")\n",
        "plt.ylabel(\"Average\")\n",
        "plt.show"
      ],
      "metadata": {
        "colab": {
          "base_uri": "https://localhost:8080/",
          "height": 469
        },
        "id": "j7Zxm8mwxOQT",
        "outputId": "a87896ab-bcd6-4450-a9f2-c5246b862923"
      },
      "execution_count": null,
      "outputs": [
        {
          "output_type": "execute_result",
          "data": {
            "text/plain": [
              "<function matplotlib.pyplot.show(close=None, block=None)>"
            ]
          },
          "metadata": {},
          "execution_count": 4
        },
        {
          "output_type": "display_data",
          "data": {
            "text/plain": [
              "<Figure size 640x480 with 1 Axes>"
            ],
            "image/png": "[encoded data removed]"
          },
          "metadata": {}
        }
      ]
    },
    {
      "cell_type": "code",
      "source": [
        "plt.boxplot(avg_st)\n",
        "plt.title(\"Average per Student\")\n",
        "plt.ylabel(\"Average\")\n",
        "plt.show"
      ],
      "metadata": {
        "colab": {
          "base_uri": "https://localhost:8080/",
          "height": 469
        },
        "id": "gHkxduV-x9Cd",
        "outputId": "2dbe5d7c-f545-4c13-c262-87529b8c6aad"
      },
      "execution_count": null,
      "outputs": [
        {
          "output_type": "execute_result",
          "data": {
            "text/plain": [
              "<function matplotlib.pyplot.show(close=None, block=None)>"
            ]
          },
          "metadata": {},
          "execution_count": 5
        },
        {
          "output_type": "display_data",
          "data": {
            "text/plain": [
              "<Figure size 640x480 with 1 Axes>"
            ],
            "image/png": "[encoded data removed]"
          },
          "metadata": {}
        }
      ]
    },
    {
      "cell_type": "markdown",
      "source": [
        "3. Write a code that allows you to extract the index of the 3 students with the highest average score.\n",
        "\n",
        "*Hint: Consider using this function and read the documentation*\n",
        "```\n",
        "np.argsort()\n",
        "np.argsort?\n",
        "```"
      ],
      "metadata": {
        "id": "8KpVVKrSyVHn"
      }
    },
    {
      "cell_type": "code",
      "source": [
        "ind = np.argsort(avg_st)[::-1][:3]\n",
        "ind\n",
        "\n",
        "grades[1],grades[5],grades[23]"
      ],
      "metadata": {
        "colab": {
          "base_uri": "https://localhost:8080/"
        },
        "id": "sjpvGNefyX18",
        "outputId": "0cb74975-00f3-458f-d3e4-02349797a408"
      },
      "execution_count": null,
      "outputs": [
        {
          "output_type": "execute_result",
          "data": {
            "text/plain": [
              "(array([82, 86, 74, 74, 87, 99]),\n",
              " array([90, 58, 41, 91, 59, 79]),\n",
              " array([43, 85, 90, 34, 64, 98]))"
            ]
          },
          "metadata": {},
          "execution_count": 6
        }
      ]
    },
    {
      "cell_type": "markdown",
      "source": [
        "4. Manipulation:\n",
        "*   Create a function that allows you to add a row with the grades of a new student and validate the number of elements of the array to include.\n",
        "\n",
        "*   Create a function that allows you to add a column with the grades of all students from a different subject and validate the number of elements of the array to include.\n",
        "\n",
        "\n",
        "*Hint: Consider using this functions:*\n",
        "\n",
        "```\n",
        "np.vstack()\n",
        "np.vstack? # Documentation\n",
        "\n",
        "np.column_stack()\n",
        "np.column_stack? # Documentation\n",
        "```"
      ],
      "metadata": {
        "id": "hBoq0ijjq1Jx"
      }
    },
    {
      "cell_type": "code",
      "source": [
        "def add_new_student_grades(existing_array, new_grades):\n",
        "\n",
        "    # Check if the number of elements in the new row matches the number of columns in the existing array\n",
        "\n",
        "    if len(new_grades) != existing_array.shape[1]:\n",
        "        print(\"Error: The number of grades in the new row does not match the number of columns in the existing array.\")\n",
        "        return existing_array  # Return the original array without modification\n",
        "\n",
        "    # Append the new row of grades to the existing array\n",
        "    updated_array = np.vstack([existing_array, new_grades])\n",
        "\n",
        "    print(\"New student grades have been added successfully.\")\n",
        "    return updated_array"
      ],
      "metadata": {
        "id": "1gFYRhQoq1jH"
      },
      "execution_count": null,
      "outputs": []
    },
    {
      "cell_type": "code",
      "source": [
        "new_array = add_new_student_grades(grades,[50,40,30,80,90,50])\n",
        "\n",
        "new_array[29:] #Last two lines"
      ],
      "metadata": {
        "colab": {
          "base_uri": "https://localhost:8080/"
        },
        "id": "NaGGZph-rCe9",
        "outputId": "ba725c55-112d-4164-c177-21fec4e2f459"
      },
      "execution_count": null,
      "outputs": [
        {
          "output_type": "stream",
          "name": "stdout",
          "text": [
            "New student grades have been added successfully.\n"
          ]
        },
        {
          "output_type": "execute_result",
          "data": {
            "text/plain": [
              "array([[70, 58, 85, 27, 65, 41],\n",
              "       [50, 40, 30, 80, 90, 50]])"
            ]
          },
          "metadata": {},
          "execution_count": 8
        }
      ]
    },
    {
      "cell_type": "code",
      "source": [
        "def add_new_subject_grades(existing_array, new_grades):\n",
        "\n",
        "    # Check if the number of elements in the new column matches the number of rows in the existing array\n",
        "\n",
        "    if len(new_grades) != existing_array.shape[0]:\n",
        "        print(\"Error: The number of grades in the new column does not match the number of rows in the existing array.\")\n",
        "        return existing_array  # Return the original array without modification\n",
        "\n",
        "    # Append the new column of grades to the existing array\n",
        "    updated_array = np.column_stack([existing_array, new_grades])\n",
        "\n",
        "    print(\"New subject grades have been added successfully.\")\n",
        "    return updated_array"
      ],
      "metadata": {
        "id": "t_bBL3grsQqA"
      },
      "execution_count": null,
      "outputs": []
    },
    {
      "cell_type": "code",
      "source": [
        "ng = np.random.randint(0, 101, size = 30)\n",
        "\n",
        "new_array2 = add_new_subject_grades(grades,ng)\n",
        "\n",
        "new_array2[0:3] # Now theres 7 columns"
      ],
      "metadata": {
        "colab": {
          "base_uri": "https://localhost:8080/"
        },
        "id": "llsCNme_srTL",
        "outputId": "b961c38c-411c-4f5b-c7d9-894bdaeef1de"
      },
      "execution_count": null,
      "outputs": [
        {
          "output_type": "stream",
          "name": "stdout",
          "text": [
            "New subject grades have been added successfully.\n"
          ]
        },
        {
          "output_type": "execute_result",
          "data": {
            "text/plain": [
              "array([[51, 92, 14, 71, 60, 20, 44],\n",
              "       [82, 86, 74, 74, 87, 99, 61],\n",
              "       [23,  2, 21, 52,  1, 87, 56]])"
            ]
          },
          "metadata": {},
          "execution_count": 10
        }
      ]
    },
    {
      "cell_type": "markdown",
      "source": [
        "### Activity 2: Credit Card Number Validation"
      ],
      "metadata": {
        "id": "mi4gHypi3BJw"
      }
    },
    {
      "cell_type": "markdown",
      "source": [
        "In the modern world, credit cards play a pivotal role in our daily financial transactions, from online shopping to paying bills. However, with convenience comes the need for security. Ensuring that credit card numbers are valid is a crucial step in preventing fraud and unauthorized transactions.\n",
        "\n",
        "In this activity, we'll dive into the world of credit card number validation and explore the rules and algorithms that determine whether a credit card number is genuine or not.\n",
        "\n",
        "<br>\n",
        "\n",
        "**The Rules of Credit Card Number Validation:**\n",
        "\n",
        "\n",
        "To verify the authenticity of a credit card number, specific rules and parameters must be met. The main rules include:\n",
        "\n",
        "*   The credit card number must consist of precisely 16 digits.\n",
        "*   The sum of all the digits in the card number should be divisible by 10 (this follows the Luhn algorithm).\n",
        "\n",
        "<br>\n",
        "\n",
        "**Classification**\n",
        "\n",
        "*   If the first digit of the credit card number is 4, it is classified as a Visa card.\n",
        "*   If the first digit of the credit card number is 5, it is classified as a MasterCard.\n",
        "*   The card numbers with a different first digit are still valid\n",
        "*   All cards must meet the main rules"
      ],
      "metadata": {
        "id": "Q-kxCOpsVJDJ"
      }
    },
    {
      "cell_type": "code",
      "source": [
        "cards = np.array([\"4638971360154580\",\"4802628150327859\",\"579389427152\",\"3450996711014900\",\"3528729554308768\",\"6246973517152048\",\"4522907329255465\",\"8470052101906908\",\n",
        "                  \"5620582490128071\",\"5733925927789833\",\"5620582490128070\",\"5381546853495930\",\"573392592778983\",\"4497495836062454\",\"8225893218441765\",\"7864777366858440\",\n",
        "                  \"4127424394801326\",\"5259599911352320\",\"4124723409529016\",\"544839740205008\",\"7709451284728213\",\"6061304246453907\",\"2790789228667629\",\"4139495833627861\",\n",
        "                  \"4556789012345670\", \"5221345678901234\", \"4012001037141112\", \"6011000990139424\", \"1234567890123456\"])"
      ],
      "metadata": {
        "id": "l8E_9ZDsYM8J"
      },
      "execution_count": null,
      "outputs": []
    },
    {
      "cell_type": "markdown",
      "source": [
        "Your first task is to create an algorithm that verifies whether the cards are valid or not. And return an array with the cards that meet the conditions.\n",
        "\n",
        "To do this it is recommended to use the following function structure and change the return values, but it's not mandatory"
      ],
      "metadata": {
        "id": "RJewpcMvbq2K"
      }
    },
    {
      "cell_type": "code",
      "source": [
        "# Function to validate a credit card number\n",
        "\n",
        "def validate_credit_card(card_number):\n",
        "\n",
        "    # Check if the card number has exactly 16 digits\n",
        "    if len(card_number) != 16:\n",
        "        return False\n",
        "\n",
        "    # Implement the Luhn algorithm to check if the card number is valid\n",
        "    digits = [int(digit) for digit in card_number]\n",
        "    checksum = sum(digits)\n",
        "\n",
        "    return checksum % 10 == 0\n",
        "\n",
        "# Function to filter valid credit card numbers from a NumPy array\n",
        "\n",
        "def filter_valid_credit_cards(cards):\n",
        "    valid_cards = []\n",
        "    for card in cards:\n",
        "        if validate_credit_card(card):\n",
        "            valid_cards.append(card)\n",
        "    return np.array(valid_cards)"
      ],
      "metadata": {
        "id": "s8vABv9FfGBN"
      },
      "execution_count": null,
      "outputs": []
    },
    {
      "cell_type": "code",
      "source": [
        "a = filter_valid_credit_cards(cards)\n",
        "print(a)"
      ],
      "metadata": {
        "colab": {
          "base_uri": "https://localhost:8080/"
        },
        "id": "ns8XJc7-krFn",
        "outputId": "da5ada7d-a936-4462-c21e-d13145a2894b"
      },
      "execution_count": null,
      "outputs": [
        {
          "output_type": "stream",
          "name": "stdout",
          "text": [
            "['4638971360154580' '4802628150327859' '6246973517152048'\n",
            " '4522907329255465' '8470052101906908' '5620582490128071'\n",
            " '5733925927789833' '4497495836062454' '7864777366858440'\n",
            " '4127424394801326' '5259599911352320' '7709451284728213'\n",
            " '6061304246453907' '2790789228667629']\n"
          ]
        }
      ]
    },
    {
      "cell_type": "markdown",
      "source": [
        "Then, separate them in three different arrays:\n",
        "*   The cards that belong to mastercard\n",
        "*   The cards that belong to visa\n",
        "*   The cards that do not belong to any of the previous ones."
      ],
      "metadata": {
        "id": "YEi287OLg_bC"
      }
    },
    {
      "cell_type": "code",
      "source": [
        "def classify_credit_cards(cards):\n",
        "    visa_cards = []\n",
        "    mastercard_cards = []\n",
        "    other_cards = []\n",
        "\n",
        "    for card in cards:\n",
        "        if len(card) != 16:\n",
        "            other_cards.append(card)\n",
        "        elif card[0] == '4':\n",
        "            visa_cards.append(card)\n",
        "        elif card[0] == '5':\n",
        "            mastercard_cards.append(card)\n",
        "        else:\n",
        "            other_cards.append(card)\n",
        "\n",
        "    return visa_cards, mastercard_cards, other_cards\n"
      ],
      "metadata": {
        "id": "FlkHZqm0g_L3"
      },
      "execution_count": null,
      "outputs": []
    },
    {
      "cell_type": "code",
      "source": [
        "visa_cards, mastercard_cards, other_cards = classify_credit_cards(cards)\n",
        "print(visa_cards)"
      ],
      "metadata": {
        "colab": {
          "base_uri": "https://localhost:8080/"
        },
        "id": "EwrfadB5oI75",
        "outputId": "bbbef267-5b2e-49dd-b8cf-2ee8f3b27a28"
      },
      "execution_count": null,
      "outputs": [
        {
          "output_type": "stream",
          "name": "stdout",
          "text": [
            "['4638971360154580', '4802628150327859', '4522907329255465', '4497495836062454', '4127424394801326', '4124723409529016', '4139495833627861', '4556789012345670', '4012001037141112']\n"
          ]
        }
      ]
    },
    {
      "cell_type": "markdown",
      "source": [
        "**Challenge: The Luhn's Algorithm**\n",
        "<br>\n",
        "\n",
        "The Luhn algorithm, developed by Hans Peter Luhn in the 1950s, is a fundamental checksum formula widely used for data validation in various fields, including credit card transactions, identification numbers, and more. It operates by performing calculations on numeric identifiers to check for errors, making it a crucial tool in ensuring data accuracy. In this overview, we'll explore the simplicity and effectiveness of the Luhn algorithm and how it has become an essential part of modern data validation processes.\n",
        "\n",
        "<br>\n",
        "\n",
        "Your task is to write the *validate_credit_card* function using the luhns algorithm replacing the second condition, for this validation.\n",
        "\n",
        "Hint: Go to this website for more information: https://www.101computing.net/is-my-credit-card-valid/"
      ],
      "metadata": {
        "id": "mrvbVbypm2wb"
      }
    },
    {
      "cell_type": "code",
      "source": [
        "def validate_credit_card(card_number):\n",
        "    # Check if the card number has exactly 16 digits\n",
        "    if len(card_number) != 16:\n",
        "        return False\n",
        "\n",
        "    # Implement the Luhn algorithm to check if the card number is valid\n",
        "    digits = [int(digit) for digit in card_number]\n",
        "    checksum = sum(digits[::-2] + [sum(divmod(d * 2, 10)) for d in digits[-2::-2]])\n",
        "\n",
        "    return checksum % 10 == 0"
      ],
      "metadata": {
        "id": "9PDIy1DEn3eW"
      },
      "execution_count": null,
      "outputs": []
    },
    {
      "cell_type": "code",
      "source": [
        "list = [1, 2, 3, 4, 5, 6, 7, 8, 9, 10, 11, 12, 13, 14, 15, 16]\n",
        "subset = list[2:4]\n",
        "subset"
      ],
      "metadata": {
        "colab": {
          "base_uri": "https://localhost:8080/"
        },
        "id": "D8K83SBA7rtP",
        "outputId": "e69fb258-2e7e-40fa-bbf4-786fda4fc425"
      },
      "execution_count": null,
      "outputs": [
        {
          "output_type": "execute_result",
          "data": {
            "text/plain": [
              "[3, 4]"
            ]
          },
          "metadata": {},
          "execution_count": 1
        }
      ]
    },
    {
      "cell_type": "code",
      "source": [
        "import numpy as np\n",
        "my_array = np.array([\n",
        "        [2, 4, 6],\n",
        "        [1, 3, 5]\n",
        "          ])\n",
        "my_value = my_array[1, 2]"
      ],
      "metadata": {
        "colab": {
          "base_uri": "https://localhost:8080/"
        },
        "id": "bsqGEu2A8EPJ",
        "outputId": "ab7cf832-91c4-46ed-ecbd-2c24087c1ec9"
      },
      "execution_count": null,
      "outputs": [
        {
          "output_type": "execute_result",
          "data": {
            "text/plain": [
              "5"
            ]
          },
          "metadata": {},
          "execution_count": 2
        }
      ]
    }
  ]
}